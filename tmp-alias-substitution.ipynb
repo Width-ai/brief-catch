{
 "cells": [
  {
   "cell_type": "markdown",
   "metadata": {},
   "source": [
    "- Write a regex pattern that\n",
    "  - looks at full rules\n",
    "  - identifies the content between the `<suggestion>...</suggestion>` tags\n",
    "  - finds any `\\{number}` and replaces with `<match no=\"{number}\"/>`\n"
   ]
  },
  {
   "cell_type": "markdown",
   "metadata": {},
   "source": [
    "# single rule\n"
   ]
  },
  {
   "cell_type": "code",
   "execution_count": 1,
   "metadata": {},
   "outputs": [],
   "source": [
    "rule_xml = R\"\"\"<rule id=\"BRIEFCATCH_186490410459524787354643479142450466081\" name=\"BRIEFCATCH_PUNCHINESS_1017\">\n",
    "    <antipattern>\n",
    "        <token inflected=\"yes\">be<exception>art</exception>\n",
    "            <!--<exception>'s</exception>-->\n",
    "            <exception>been</exception>\n",
    "            <exception>is</exception>\n",
    "            <exception>are</exception>\n",
    "        </token>\n",
    "        <token min=\"0\" regexp=\"yes\">almost|also|barely|consistently|even|generally|impermissibly|improperly|inconsistently|increasingly|justifiably|largely|mainly|mostly|nearly|never|occasionally|often|partially|partly|perhaps|permissibly|possibly|practically|primarily|probably|rarely|seldom|sometimes|somewhat|sporadically|still|therefore|thus|typically|understandably|unreliably|usually</token>\n",
    "        <token>involved</token>\n",
    "        <token>in</token>\n",
    "        <token postag=\"DT\"/>\n",
    "        <token regexp=\"yes\">activites|case|causing|construction|creation|dangerous|decision|design|development|dispute|illegal|implementation|investigation|lawsuit|litigation|murder|ongoing|planning|polluting|process|production|program|research|unlawful|various</token>\n",
    "    </antipattern>\n",
    "    <antipattern>\n",
    "        <token regexp=\"yes\">company|cia|country|government|plaintiff|participants|employee|population|defendant|plaintiffs|brain|students|parties|police|world|parents|people|children</token>\n",
    "        <token inflected=\"yes\">be<exception>art</exception>\n",
    "            <!--<exception>'s</exception>-->\n",
    "            <exception>been</exception>\n",
    "            <exception>is</exception>\n",
    "            <exception>are</exception>\n",
    "        </token>\n",
    "        <token min=\"0\" regexp=\"yes\">almost|also|barely|consistently|even|generally|impermissibly|improperly|inconsistently|increasingly|justifiably|largely|mainly|mostly|nearly|never|occasionally|often|partially|partly|perhaps|permissibly|possibly|practically|primarily|probably|rarely|seldom|sometimes|somewhat|sporadically|still|therefore|thus|typically|understandably|unreliably|usually</token>\n",
    "        <token min=\"0\" regexp=\"yes\">absolutely|actually|certainly|clearly|completely|considerably|decidedly|definitely|drastically|dramatically|entirely|extremely|flatly|fully|fundamentally|greatly|highly|obviously|perfectly|plainly|quite|really|strongly|surely|totally|truly|utterly|very|wholly|widely|justly</token>\n",
    "        <token>involved</token>\n",
    "        <token>in</token>\n",
    "    </antipattern>\n",
    "    <pattern>\n",
    "        <token inflected=\"yes\">be<exception>art</exception>\n",
    "            <!--<exception>'s</exception>-->\n",
    "            <exception>been</exception>\n",
    "            <exception>is</exception>\n",
    "            <exception>are</exception>\n",
    "        </token>\n",
    "        <token min=\"0\" regexp=\"yes\">almost|also|barely|consistently|even|generally|impermissibly|improperly|inconsistently|increasingly|justifiably|largely|mainly|mostly|nearly|never|occasionally|often|partially|partly|perhaps|permissibly|possibly|practically|primarily|probably|rarely|seldom|sometimes|somewhat|sporadically|still|therefore|thus|typically|understandably|unreliably|usually</token>\n",
    "        <token>involved</token>\n",
    "        <token>in</token>\n",
    "    </pattern>\n",
    "    <message>Would a stronger verb help engage the reader?|**Example** from Justice Kagan: \"In 1988 Judulang **took part in** a fight in which another person shot and killed someone.\"|**Example** from Justice Alito: \"[T]hose documents **are part of** the apparatus used to enforce federal and state income tax laws.\"|**Example** from Loretta Lynch: \"[G]ender inequalities diminish women's ability to **participate in** the workforce.\"|**Example** from Steve Susman: \"Universities should . . . evaluate applicants based on all the information available in the file including . . . an essay describing the ways in which the applicant will **contribute to** the life and diversity of the [school].\"|**Example** from United Parcel Service's privacy notice: \"[I]f you choose to withdraw your consent you may not be able to **participate in** or benefit from our programs[.]\"</message>\n",
    "    <suggestion>\\2 <match no=\"1\" postag=\"(V.*)\" postag_regexp=\"yes\" postag_replace=\"$1\">participate</match> in</suggestion>\n",
    "    <suggestion>\\1 \\2 part of</suggestion>\n",
    "    <suggestion>\\2 <match no=\"1\" postag=\"(V.*)\" postag_regexp=\"yes\" postag_replace=\"$1\">engage</match> in</suggestion>\n",
    "    <suggestion>\\2 <match no=\"1\" postag=\"(V.*)\" postag_regexp=\"yes\" postag_replace=\"$1\">take</match> part in</suggestion>\n",
    "    <suggestion>\\2 <match no=\"1\" postag=\"(V.*)\" postag_regexp=\"yes\" postag_replace=\"$1\">contribute</match> to</suggestion>\n",
    "    <suggestion>\\2 <match no=\"1\" postag=\"(V.*)\" postag_regexp=\"yes\" postag_replace=\"$1\">join</match></suggestion>\n",
    "    <suggestion>\\2 <match no=\"1\" postag=\"(V.*)\" postag_regexp=\"yes\" postag_replace=\"$1\">affect</match></suggestion>\n",
    "    <short>{\"ruleGroup\":null,\"ruleGroupIdx\":0,\"isConsistency\":false,\"isStyle\":true,\"correctionCount\":7,\"priority\":\"4.670\",\"WORD\":true,\"OUTLOOK\":true}</short>\n",
    "    <example correction=\"participated in|was part of|engaged in|took part in|contributed to|joined|affected\">She <marker>was involved in</marker> coaching.</example>\n",
    "    <example>The CIA was certainly involved in shenanigans.</example>\n",
    "    <example>He was almost involved in the case against Donald J. Trump.</example>\n",
    "</rule>\"\"\""
   ]
  },
  {
   "cell_type": "code",
   "execution_count": 2,
   "metadata": {},
   "outputs": [
    {
     "data": {
      "text/plain": [
       "'<rule id=\"BRIEFCATCH_186490410459524787354643479142450466081\" name=\"BRIEFCATCH_PUNCHINESS_1017\">\\n    <antipattern>\\n        <token inflected=\"yes\">be<exception>art</exception>\\n            <!--<exception>\\'s</exception>-->\\n            <exception>been</exception>\\n            <exception>is</exception>\\n            <exception>are</exception>\\n        </token>\\n        <token min=\"0\" regexp=\"yes\">almost|also|barely|consistently|even|generally|impermissibly|improperly|inconsistently|increasingly|justifiably|largely|mainly|mostly|nearly|never|occasionally|often|partially|partly|perhaps|permissibly|possibly|practically|primarily|probably|rarely|seldom|sometimes|somewhat|sporadically|still|therefore|thus|typically|understandably|unreliably|usually</token>\\n        <token>involved</token>\\n        <token>in</token>\\n        <token postag=\"DT\"/>\\n        <token regexp=\"yes\">activites|case|causing|construction|creation|dangerous|decision|design|development|dispute|illegal|implementation|investigation|lawsuit|litigation|murder|ongoing|planning|polluting|process|production|program|research|unlawful|various</token>\\n    </antipattern>\\n    <antipattern>\\n        <token regexp=\"yes\">company|cia|country|government|plaintiff|participants|employee|population|defendant|plaintiffs|brain|students|parties|police|world|parents|people|children</token>\\n        <token inflected=\"yes\">be<exception>art</exception>\\n            <!--<exception>\\'s</exception>-->\\n            <exception>been</exception>\\n            <exception>is</exception>\\n            <exception>are</exception>\\n        </token>\\n        <token min=\"0\" regexp=\"yes\">almost|also|barely|consistently|even|generally|impermissibly|improperly|inconsistently|increasingly|justifiably|largely|mainly|mostly|nearly|never|occasionally|often|partially|partly|perhaps|permissibly|possibly|practically|primarily|probably|rarely|seldom|sometimes|somewhat|sporadically|still|therefore|thus|typically|understandably|unreliably|usually</token>\\n        <token min=\"0\" regexp=\"yes\">absolutely|actually|certainly|clearly|completely|considerably|decidedly|definitely|drastically|dramatically|entirely|extremely|flatly|fully|fundamentally|greatly|highly|obviously|perfectly|plainly|quite|really|strongly|surely|totally|truly|utterly|very|wholly|widely|justly</token>\\n        <token>involved</token>\\n        <token>in</token>\\n    </antipattern>\\n    <pattern>\\n        <token inflected=\"yes\">be<exception>art</exception>\\n            <!--<exception>\\'s</exception>-->\\n            <exception>been</exception>\\n            <exception>is</exception>\\n            <exception>are</exception>\\n        </token>\\n        <token min=\"0\" regexp=\"yes\">almost|also|barely|consistently|even|generally|impermissibly|improperly|inconsistently|increasingly|justifiably|largely|mainly|mostly|nearly|never|occasionally|often|partially|partly|perhaps|permissibly|possibly|practically|primarily|probably|rarely|seldom|sometimes|somewhat|sporadically|still|therefore|thus|typically|understandably|unreliably|usually</token>\\n        <token>involved</token>\\n        <token>in</token>\\n    </pattern>\\n    <message>Would a stronger verb help engage the reader?|**Example** from Justice Kagan: \"In 1988 Judulang **took part in** a fight in which another person shot and killed someone.\"|**Example** from Justice Alito: \"[T]hose documents **are part of** the apparatus used to enforce federal and state income tax laws.\"|**Example** from Loretta Lynch: \"[G]ender inequalities diminish women\\'s ability to **participate in** the workforce.\"|**Example** from Steve Susman: \"Universities should . . . evaluate applicants based on all the information available in the file including . . . an essay describing the ways in which the applicant will **contribute to** the life and diversity of the [school].\"|**Example** from United Parcel Service\\'s privacy notice: \"[I]f you choose to withdraw your consent you may not be able to **participate in** or benefit from our programs[.]\"</message>\\n    <suggestion><match no=\"2\"/> <match no=\"1\" postag=\"(V.*)\" postag_regexp=\"yes\" postag_replace=\"$1\">participate</match> in</suggestion>\\n    <suggestion><match no=\"1\"/> <match no=\"2\"/> part of</suggestion>\\n    <suggestion><match no=\"2\"/> <match no=\"1\" postag=\"(V.*)\" postag_regexp=\"yes\" postag_replace=\"$1\">engage</match> in</suggestion>\\n    <suggestion><match no=\"2\"/> <match no=\"1\" postag=\"(V.*)\" postag_regexp=\"yes\" postag_replace=\"$1\">take</match> part in</suggestion>\\n    <suggestion><match no=\"2\"/> <match no=\"1\" postag=\"(V.*)\" postag_regexp=\"yes\" postag_replace=\"$1\">contribute</match> to</suggestion>\\n    <suggestion><match no=\"2\"/> <match no=\"1\" postag=\"(V.*)\" postag_regexp=\"yes\" postag_replace=\"$1\">join</match></suggestion>\\n    <suggestion><match no=\"2\"/> <match no=\"1\" postag=\"(V.*)\" postag_regexp=\"yes\" postag_replace=\"$1\">affect</match></suggestion>\\n    <short>{\"ruleGroup\":null,\"ruleGroupIdx\":0,\"isConsistency\":false,\"isStyle\":true,\"correctionCount\":7,\"priority\":\"4.670\",\"WORD\":true,\"OUTLOOK\":true}</short>\\n    <example correction=\"participated in|was part of|engaged in|took part in|contributed to|joined|affected\">She <marker>was involved in</marker> coaching.</example>\\n    <example>The CIA was certainly involved in shenanigans.</example>\\n    <example>He was almost involved in the case against Donald J. Trump.</example>\\n</rule>'"
      ]
     },
     "execution_count": 2,
     "metadata": {},
     "output_type": "execute_result"
    }
   ],
   "source": [
    "import re\n",
    "\n",
    "\n",
    "def resolve_alias_in_suggestion(rule_xml):\n",
    "    suggestion_tag_pattern = r\"<suggestion>.*?</suggestion>\"\n",
    "    suggest_tags = re.findall(suggestion_tag_pattern, rule_xml)\n",
    "    for old_suggest in suggest_tags:\n",
    "        pattern = r\"\\\\\\b([1-9][0-9]?|100)\\b\"\n",
    "        # print(1, old_suggest)\n",
    "        new_suggest = re.sub(\n",
    "            pattern, lambda x: f\"\"\"<match no=\"{x[0][1:]}\"/>\"\"\", old_suggest\n",
    "        )\n",
    "        rule_xml = rule_xml.replace(old_suggest, new_suggest)\n",
    "        # print(2, new_suggest)\n",
    "    return rule_xml\n",
    "\n",
    "\n",
    "resolve_alias_in_suggestion(rule_xml)"
   ]
  },
  {
   "cell_type": "markdown",
   "metadata": {},
   "source": [
    "# do against bulk\n"
   ]
  },
  {
   "cell_type": "code",
   "execution_count": 3,
   "metadata": {},
   "outputs": [],
   "source": [
    "import os\n",
    "\n",
    "rules_dir = \"/Users/consult/wd/width/briefcatch-example-rules/\"\n",
    "with open(os.path.join(rules_dir, \"grammar copy.xml\"), \"r\") as f:\n",
    "    grammar_xml = f.read()\n",
    "\n",
    "new_grammar_xml = resolve_alias_in_suggestion(grammar_xml)\n",
    "fpath = \"grammar.xml\"\n",
    "with open(os.path.join(rules_dir, \"grammar.xml\"), \"w\") as f:\n",
    "    f.write(new_grammar_xml)"
   ]
  }
 ],
 "metadata": {
  "kernelspec": {
   "display_name": "briefcatch",
   "language": "python",
   "name": "python3"
  },
  "language_info": {
   "codemirror_mode": {
    "name": "ipython",
    "version": 3
   },
   "file_extension": ".py",
   "mimetype": "text/x-python",
   "name": "python",
   "nbconvert_exporter": "python",
   "pygments_lexer": "ipython3",
   "version": "3.9.18"
  }
 },
 "nbformat": 4,
 "nbformat_minor": 2
}

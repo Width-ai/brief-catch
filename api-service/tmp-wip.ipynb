{
 "cells": [
  {
   "cell_type": "code",
   "execution_count": 1,
   "metadata": {},
   "outputs": [],
   "source": [
    "%load_ext autoreload\n",
    "%autoreload 2"
   ]
  },
  {
   "cell_type": "code",
   "execution_count": 7,
   "metadata": {},
   "outputs": [],
   "source": [
    "xml1 = \"\"\"\n",
    "<rule id=\"BRIEFCATCH_72217380358443072298334619098248039878\" name=\"BRIEFCATCH_PUNCHINESS_921\">\n",
    "    <pattern>\n",
    "        <token inflected=\"yes\">call</token>\n",
    "        <token>upon</token>\n",
    "    </pattern>\n",
    "    <pattern>\n",
    "        <token inflected=\"yes\">call</token>\n",
    "        <token>upon</token>\n",
    "    </pattern>\n",
    "    <message>Would shorter words add punch?|**Example** from Justice Gorsuch: “When **called on** to interpret a statute, this Court generally seeks to discern and apply the ordinary meaning of its terms at the time of their adoption.”|**Example** from Deanne Maynard: “The [order] merely confirms that it was not until later proceedings that he was **called on** to single out these waters.”</message>\n",
    "    <suggestion><match no=\"1\"/> on</suggestion>\n",
    "    <suggestion><match no=\"1\" postag=\"(V.*)\" postag_regexp=\"yes\" postag_replace=\"$1\">ask</match></suggestion>\n",
    "    <short>{\"ruleGroup\":null,\"ruleGroupIdx\":0,\"isConsistency\":false,\"isStyle\":true,\"correctionCount\":2,\"priority\":\"2.84\",\"WORD\":true,\"OUTLOOK\":true}</short>\n",
    "    <example correction=\"called on|asked\">She was <marker>called upon</marker> three times.</example>\n",
    "</rule>\n",
    "\"\"\"\n",
    "xml2 = \"\"\"\n",
    "<rule id=\"BRIEFCATCH_72217380358443072298334619098248039878\" name=\"BRIEFCATCH_PUNCHINESS_921\">\n",
    "    <pattern>\n",
    "        <token inflected=\"yes\">call</token>\n",
    "        <token inflected=\"yes\">FAKE</token>\n",
    "        <token inflected=\"yes\">TOKENs</token>\n",
    "    </pattern>\n",
    "    <pattern>\n",
    "        <token inflected=\"yes\">123</token>\n",
    "        <token inflected=\"yes\">TOKENs</token>\n",
    "    </pattern>\n",
    "    <message>Would shorter words add punch?|**Example** from Justice Gorsuch: “When **called on** to interpret a statute, this Court generally seeks to discern and apply the ordinary meaning of its terms at the time of their adoption.”|**Example** from Deanne Maynard: “The [order] merely confirms that it was not until later proceedings that he was **called on** to single out these waters.”</message>\n",
    "    <suggestion><match no=\"1\"/> on</suggestion>\n",
    "    <suggestion><match no=\"1\" postag=\"(V.*)\" postag_regexp=\"yes\" postag_replace=\"$1\">ask</match></suggestion>\n",
    "    <short>{\"ruleGroup\":null,\"ruleGroupIdx\":0,\"isConsistency\":false,\"isStyle\":true,\"correctionCount\":2,\"priority\":\"2.84\",\"WORD\":true,\"OUTLOOK\":true}</short>\n",
    "    <example correction=\"called on|asked\">She was <marker>called upon</marker> three times.</example>\n",
    "</rule>\n",
    "\"\"\""
   ]
  },
  {
   "cell_type": "code",
   "execution_count": 8,
   "metadata": {},
   "outputs": [
    {
     "name": "stdout",
     "output_type": "stream",
     "text": [
      "\n",
      "<rule id=\"BRIEFCATCH_72217380358443072298334619098248039878\" name=\"BRIEFCATCH_PUNCHINESS_921\">\n",
      "    <pattern>\n",
      "        <token inflected=\"yes\">call</token>\n",
      "        <token inflected=\"yes\">FAKE</token>\n",
      "        <token inflected=\"yes\">TOKENs</token>\n",
      "    </pattern>\n",
      "    <pattern>\n",
      "        <token inflected=\"yes\">123</token>\n",
      "        <token inflected=\"yes\">TOKENs</token>\n",
      "    </pattern>\n",
      "    <message>Would shorter words add punch?|**Example** from Justice Gorsuch: “When **called on** to interpret a statute, this Court generally seeks to discern and apply the ordinary meaning of its terms at the time of their adoption.”|**Example** from Deanne Maynard: “The [order] merely confirms that it was not until later proceedings that he was **called on** to single out these waters.”</message>\n",
      "    <suggestion><match no=\"1\"/> on</suggestion>\n",
      "    <suggestion><match no=\"1\" postag=\"(V.*)\" postag_regexp=\"yes\" postag_replace=\"$1\">ask</match></suggestion>\n",
      "    <short>{\"ruleGroup\":null,\"ruleGroupIdx\":0,\"isConsistency\":false,\"isStyle\":true,\"correctionCount\":2,\"priority\":\"2.84\",\"WORD\":true,\"OUTLOOK\":true}</short>\n",
      "    <example correction=\"called on|asked\">She was <marker>called upon</marker> three times.</example>\n",
      "</rule>\n",
      "\n"
     ]
    }
   ],
   "source": [
    "from utils.dynamic_prompting import (\n",
    "    get_pos_tag_dicts_from_rule,\n",
    "    remove_message_and_short_tags,\n",
    "    rule_has_regex,\n",
    "    replace_all_instances_of_tag,\n",
    ")\n",
    "\n",
    "print(replace_all_instances_of_tag(\"pattern\", xml1, xml2))"
   ]
  },
  {
   "cell_type": "code",
   "execution_count": null,
   "metadata": {},
   "outputs": [],
   "source": []
  }
 ],
 "metadata": {
  "kernelspec": {
   "display_name": "briefcatch",
   "language": "python",
   "name": "python3"
  },
  "language_info": {
   "codemirror_mode": {
    "name": "ipython",
    "version": 3
   },
   "file_extension": ".py",
   "mimetype": "text/x-python",
   "name": "python",
   "nbconvert_exporter": "python",
   "pygments_lexer": "ipython3",
   "version": "3.9.18"
  }
 },
 "nbformat": 4,
 "nbformat_minor": 2
}

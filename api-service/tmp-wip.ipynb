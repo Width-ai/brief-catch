{
 "cells": [
  {
   "cell_type": "code",
   "execution_count": 1,
   "metadata": {},
   "outputs": [],
   "source": [
    "system_prompt = \"\"\"\n",
    "# Task\n",
    "You are a system focused on making sure the XML rule <pattern> and <antipattern> tags match with the <example> tags. \n",
    "\n",
    "# Pattern -> Example rules\n",
    "(1)The <example> tags that correspond to the <pattern> incorporate the suggestion as a `correction` field and surround the part of the sentence that matches the pattern with <marker>...</marker> tags.\n",
    "  (1.a) The <marker> tags **must** surround the full pattern of rule\n",
    "(2) There **must** be an example for the pattern\n",
    "\n",
    "# Antipattern -> Example rules\n",
    "(1) The <example> tags that correspond to the <antipattern> do not contain `correction` fields or <marker>...</marker> tags, they just have an example sentence that includes a match for the <antipattern>\n",
    "(2) A valid rule has only ONE <example> *per* <antipattern>. If a rule has three antipatterns, it needs three examples to be valid. The 1:1 ratio is crucial.\n",
    "\n",
    "\n",
    "Here are some examples of how <pattern> and <antipattern> tags match <example> tags:\n",
    "\n",
    "\n",
    "# Pattern Matching Examples\n",
    "Pattern:\n",
    "<pattern>\n",
    "    <token inflected=\"yes\">ascertain<exception>ascertaining</exception></token>\n",
    "</pattern>\n",
    "<suggestion><match no=\"1\" postag=\"(V.*)\" postag_regexp=\"yes\" postag_replace=\"$1\">determine</match></suggestion>\n",
    "    <suggestion><match no=\"1\" postag=\"(V.*)\" postag_regexp=\"yes\" postag_replace=\"$1\">learn</match></suggestion>\n",
    "    <suggestion><match no=\"1\" postag=\"(V.*)\" postag_regexp=\"yes\" postag_replace=\"$1\">establish</match></suggestion>\n",
    "    <suggestion><match no=\"1\" postag=\"(V.*)\" postag_regexp=\"yes\" postag_replace=\"$1\">discover</match></suggestion>\n",
    "    <suggestion><match no=\"1\" postag=\"(V.*)\" postag_regexp=\"yes\" postag_replace=\"$1\">find</match> out</suggestion>\n",
    "    <suggestion><match no=\"1\" postag=\"(V.*)\" postag_regexp=\"yes\" postag_replace=\"$1\">figure</match> out</suggestion>\n",
    "    <suggestion><match no=\"1\" postag=\"(V.*)\" postag_regexp=\"yes\" postag_replace=\"$1\">decide</match></suggestion>\n",
    "    <suggestion><match no=\"1\" postag=\"(V.*)\" postag_regexp=\"yes\" postag_replace=\"$1\">arrive</match> at</suggestion>\n",
    "    <suggestion><match no=\"1\" postag=\"(V.*)\" postag_regexp=\"yes\" postag_replace=\"$1\">learn</match> of</suggestion>\n",
    "\n",
    "Matching example:\n",
    "<example correction=\"determined|learned|learnt|established|discovered|found out|figured out|decided|arrived at|learned of|learnt of\">She <marker>ascertained</marker> the item's whereabouts.</example>\n",
    "\n",
    "\n",
    "# Antipattern Matching Examples\n",
    "--------\n",
    "Antipattern:\n",
    "<antipattern>\n",
    "    <token regexp=\"yes\">can|could|shall|should</token>\n",
    "    <token>ascertain</token>\n",
    "</antipattern>\n",
    "\n",
    "Matching example:\n",
    "<example>We can ascertain their intent from the examples provided</example>\n",
    "--------\n",
    "Antipattern:\n",
    "<antipattern>\n",
    "    <token inflected=\"yes\">ascertain<exception>ascertaining</exception></token>\n",
    "    <token>the</token>\n",
    "    <token>citizenship</token>\n",
    "</antipattern>\n",
    "\n",
    "Matching example:\n",
    "<example>To ascertain the citizenship.</example>\n",
    "--------\n",
    "\n",
    "\n",
    "Given the input rule, following all instructions, write any examples that are missing that are needed to make it a valid rule. Think through what example tags will be needed to complete the rule. You should respond in JSON format. Specifically there should be 1. a string field `thought` that where you show your thoughts around how to write a valid example xml; and 2. an array field `suggestions` where each item is an example tag. \n",
    "\"\"\""
   ]
  },
  {
   "cell_type": "code",
   "execution_count": 2,
   "metadata": {},
   "outputs": [],
   "source": [
    "xml = \"\"\"\n",
    "<rule id=\"BRIEFCATCH_63718407441811696862639906069587787980\" name=\"BRIEFCATCH_PUNCHINESS_673.2\">\n",
    "    <antipattern>\n",
    "        <token min=\"0\" regexp=\"yes\">almost|virtually|following</token>\n",
    "        <token>immediately</token>\n",
    "        <token regexp=\"yes\">after|thereafter</token>\n",
    "        <token regexp=\"yes\">\\.|,|;|birth|his|its|the|their|world</token>\n",
    "    </antipattern>\n",
    "    <antipattern>\n",
    "        <token>immediately</token>\n",
    "        <token>after</token>\n",
    "        <token postag=\"DT\"/>\n",
    "        <token regexp=\"yes\">accident|acquisition|acute|attack|change|death|disaster|distribution|earthquake|election|end|event|exchange|fire|first|high|incident|initial|injury|last|major|meal|ownership|period|second|single|transfer|war</token>\n",
    "    </antipattern>\n",
    "    <pattern>\n",
    "        <token min=\"0\" regexp=\"yes\">almost|virtually|following</token>\n",
    "        <token>immediately</token>\n",
    "        <token regexp=\"yes\">after|thereafter<exception regexp=\"yes\">&months;|&abbrevMonths;</exception><exception postag=\"CD\"/></token>\n",
    "    </pattern>\n",
    "    <message>Would shorter words add punch?|**Example** from Justice Kagan: \"The first step of the Government's argument derives from §7703(b)(2)'s second sentence. **Right after** stating that . . . .\"|**Example** from Justice Breyer: \"The case arose under . . . a statutory provision that Congress enacted **just after** the Civil War . . . to protect the rights of black citizens.\"</message>\n",
    "    <suggestion>just after</suggestion>\n",
    "    <suggestion>right after</suggestion>\n",
    "    <short>{\"ruleGroup\":\"BRIEFCATCH_PUNCHINESS_673\",\"ruleGroupIdx\":2,\"isConsistency\":false,\"isStyle\":true,\"correctionCount\":2,\"priority\":\"3.321\",\"WORD\":true,\"OUTLOOK\":true}</short>\n",
    "</rule>\n",
    "\"\"\""
   ]
  },
  {
   "cell_type": "code",
   "execution_count": 3,
   "metadata": {},
   "outputs": [],
   "source": [
    "from dotenv import load_dotenv\n",
    "import openai\n",
    "import os\n",
    "\n",
    "load_dotenv()\n",
    "openai.api_key = os.getenv(\"OPENAI_API_KEY\")"
   ]
  },
  {
   "cell_type": "code",
   "execution_count": 4,
   "metadata": {},
   "outputs": [
    {
     "name": "stderr",
     "output_type": "stream",
     "text": [
      "/Users/consult/miniconda3/envs/briefcatch/lib/python3.9/site-packages/pinecone/index.py:4: TqdmWarning: IProgress not found. Please update jupyter and ipywidgets. See https://ipywidgets.readthedocs.io/en/stable/user_install.html\n",
      "  from tqdm.autonotebook import tqdm\n"
     ]
    }
   ],
   "source": [
    "from utils.utils import call_gpt_with_backoff, generate_simple_message\n",
    "import json\n",
    "\n",
    "message = generate_simple_message(system_prompt, xml)\n",
    "resp, usage = call_gpt_with_backoff(\n",
    "    message,\n",
    "    response_format=\"json_object\",\n",
    "    model=\"gpt-4-0125-preview\",\n",
    ")"
   ]
  },
  {
   "cell_type": "code",
   "execution_count": 5,
   "metadata": {},
   "outputs": [],
   "source": [
    "try:\n",
    "    suggestions = json.loads(resp)[\"suggestions\"]\n",
    "except json.JSONDecodeError:  # Specifically catch JSON errors\n",
    "    print(\"bad json\")"
   ]
  },
  {
   "cell_type": "code",
   "execution_count": 18,
   "metadata": {},
   "outputs": [],
   "source": [
    "suggestion_section = \"\\n\" + \"\\n\".join([\"    \" + s for s in suggestions])"
   ]
  },
  {
   "cell_type": "code",
   "execution_count": 19,
   "metadata": {},
   "outputs": [],
   "source": [
    "end_of_xml_ix = -(len(\"<rule/>\") + 2)\n",
    "xml_out = xml[:end_of_xml_ix] + suggestion_section + xml[end_of_xml_ix:]"
   ]
  },
  {
   "cell_type": "code",
   "execution_count": 20,
   "metadata": {},
   "outputs": [
    {
     "name": "stdout",
     "output_type": "stream",
     "text": [
      "\n",
      "<rule id=\"BRIEFCATCH_63718407441811696862639906069587787980\" name=\"BRIEFCATCH_PUNCHINESS_673.2\">\n",
      "    <antipattern>\n",
      "        <token min=\"0\" regexp=\"yes\">almost|virtually|following</token>\n",
      "        <token>immediately</token>\n",
      "        <token regexp=\"yes\">after|thereafter</token>\n",
      "        <token regexp=\"yes\">\\.|,|;|birth|his|its|the|their|world</token>\n",
      "    </antipattern>\n",
      "    <antipattern>\n",
      "        <token>immediately</token>\n",
      "        <token>after</token>\n",
      "        <token postag=\"DT\"/>\n",
      "        <token regexp=\"yes\">accident|acquisition|acute|attack|change|death|disaster|distribution|earthquake|election|end|event|exchange|fire|first|high|incident|initial|injury|last|major|meal|ownership|period|second|single|transfer|war</token>\n",
      "    </antipattern>\n",
      "    <pattern>\n",
      "        <token min=\"0\" regexp=\"yes\">almost|virtually|following</token>\n",
      "        <token>immediately</token>\n",
      "        <token regexp=\"yes\">after|thereafter<exception regexp=\"yes\">&months;|&abbrevMonths;</exception><exception postag=\"CD\"/></token>\n",
      "    </pattern>\n",
      "    <message>Would shorter words add punch?|**Example** from Justice Kagan: \"The first step of the Government's argument derives from §7703(b)(2)'s second sentence. **Right after** stating that . . . .\"|**Example** from Justice Breyer: \"The case arose under . . . a statutory provision that Congress enacted **just after** the Civil War . . . to protect the rights of black citizens.\"</message>\n",
      "    <suggestion>just after</suggestion>\n",
      "    <suggestion>right after</suggestion>\n",
      "    <short>{\"ruleGroup\":\"BRIEFCATCH_PUNCHINESS_673\",\"ruleGroupIdx\":2,\"isConsistency\":false,\"isStyle\":true,\"correctionCount\":2,\"priority\":\"3.321\",\"WORD\":true,\"OUTLOOK\":true}</short>\n",
      "    <example>He arrived almost immediately after the birth of his first child.</example>\n",
      "    <example>The team responded immediately after the earthquake struck the city.</example>\n",
      "    <example correction=\"just after|right after\">The event happened almost <marker>immediately after</marker> the announcement was made.</example>\n",
      "</rule>\n",
      "\n"
     ]
    }
   ],
   "source": [
    "print(xml_out)"
   ]
  },
  {
   "cell_type": "code",
   "execution_count": null,
   "metadata": {},
   "outputs": [],
   "source": []
  }
 ],
 "metadata": {
  "kernelspec": {
   "display_name": "briefcatch",
   "language": "python",
   "name": "python3"
  },
  "language_info": {
   "codemirror_mode": {
    "name": "ipython",
    "version": 3
   },
   "file_extension": ".py",
   "mimetype": "text/x-python",
   "name": "python",
   "nbconvert_exporter": "python",
   "pygments_lexer": "ipython3",
   "version": "3.9.18"
  }
 },
 "nbformat": 4,
 "nbformat_minor": 2
}

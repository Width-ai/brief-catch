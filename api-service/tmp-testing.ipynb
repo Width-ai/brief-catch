{
 "cells": [
  {
   "cell_type": "code",
   "execution_count": 1,
   "metadata": {},
   "outputs": [],
   "source": [
    "%load_ext autoreload\n",
    "%autoreload 2"
   ]
  },
  {
   "cell_type": "code",
   "execution_count": 2,
   "metadata": {},
   "outputs": [],
   "source": [
    "from utils.regexp_validation import post_process_xml"
   ]
  },
  {
   "cell_type": "code",
   "execution_count": 3,
   "metadata": {},
   "outputs": [],
   "source": [
    "test_xml = \"\"\"\n",
    "<rule id=\"BRIEFCATCH_51343401212486148133691753914879276798\" name=\"BRIEFCATCH_CONCISENESS_4143\">\n",
    "    <antipattern>\n",
    "        <token>prior</token>\n",
    "        <token>to</token>\n",
    "        <token postag=\"VB\">\n",
    "            <exception>can</exception>\n",
    "            <exception>case</exception>\n",
    "            <exception>contract</exception>\n",
    "            <exception>counsel</exception>\n",
    "            <exception>court</exception>\n",
    "            <exception>dissent</exception>\n",
    "            <exception>district</exception>\n",
    "            <exception>equal</exception>\n",
    "            <exception>even</exception>\n",
    "            <exception>evidence</exception>\n",
    "            <exception>found</exception>\n",
    "            <exception>jail</exception>\n",
    "            <exception>judge</exception>\n",
    "            <exception>motion</exception>\n",
    "            <exception>people</exception>\n",
    "            <exception>respect</exception>\n",
    "            <exception>source</exception>\n",
    "            <exception>still</exception>\n",
    "            <exception>title</exception>\n",
    "            <exception>trial</exception>\n",
    "            <exception>up</exception>\n",
    "            <exception>view</exception>\n",
    "            <exception>while</exception>\n",
    "            <exception>will</exception>\n",
    "        </token>\n",
    "    </antipattern>\n",
    "    <antipattern>\n",
    "        <token>\n",
    "            <exception>immediately</exception>\n",
    "        </token>\n",
    "        <token case_sensitive=\"yes\">prior</token>\n",
    "        <token>to</token>\n",
    "        <token postag=\"N.*|PRP|PRP$|DT\" postag_regexp=\"yes\">\n",
    "            <exception regexp=\"yes\">all|are|being|believes|but|by|can|circuit|clear|concerning|concerns|dissent|does|due|even|fails|find|finds|get|given|having|his|hold|holds|if|left|like|long|make|may|might|must|no|note|one|or|other|prior|regarding|see|then|try|will</exception>\n",
    "        </token>\n",
    "        <token postag=\"VBG\"/>\n",
    "    </antipattern>\n",
    "    <antipattern>\n",
    "        <token>prior</token>\n",
    "        <token>to</token>\n",
    "        <token>the</token>\n",
    "        <token regexp=\"yes\">effective|entry|filing|hearing|interrogation</token>\n",
    "    </antipattern>\n",
    "    <pattern>\n",
    "        <token>\n",
    "            <exception>immediately</exception>\n",
    "        </token>\n",
    "        <token case_sensitive=\"yes\">prior</token>\n",
    "        <token>to</token>\n",
    "        <token postag=\"N.*|PRP|PRP/$|DT\" postag_regexp=\"yes\">\n",
    "            <exception regexp=\"yes\">all|are|being|believes|but|by|can|circuit|clear|concerning|concerns|dissent|does|due|even|fails|find|finds|get|given|having|his|hold|holds|if|left|like|long|make|may|might|must|no|note|one|or|other|prior|regarding|see|then|try|will</exception>\n",
    "        </token>\n",
    "    </pattern>\n",
    "    <message>Would using fewer words help sharpen the point?|**Example** from Chief Justice Roberts: \"Forcing the officer to wait and predict whether such exigencies will occur **before entry** is in practice no different from forcing the officer to wait for these exigencies to occur.\"|**Example** from Justice Kagan: \"It instead gives the court a brief chance to fix mistakes **before its** (single) judgment on a (single) habeas application becomes final and thereby triggers the time for appeal.\"|**Example** from Judge Easterbrook: \"The seller does not need to conduct tests **before** asserting that this product reduces the risk of infection from cuts.\"|**Example** from Paul Clement: \"Instead, like so many **before** them, the latest courts to take up that misguided charge cannot even agree on a single test.\"|**Example** from Office of Legal Counsel: \"The tax committees . . . are the only congressional committees that need not obtain a resolution from the full House or Senate **before** they request tax information.\"</message>\n",
    "    <suggestion><match no=\"1\"/> before <match no=\"4\"/></suggestion>\n",
    "    <short>{\"ruleGroup\":null,\"ruleGroupIdx\":0,\"isConsistency\":false,\"isStyle\":true,\"correctionCount\":1,\"priority\":\"4.575\",\"WORD\":true,\"OUTLOOK\":true}</short>\n",
    "    <example correction=\"that before July\">Sandy testified <marker>that prior to July</marker> 29, he had never heard</example>\n",
    "    <example>And prior to walk,</example>\n",
    "    <example>And prior to plaintiff pleading for relief.</example>\n",
    "    <example>And prior to the interrogation she smiled.</example>\n",
    "</rule>\n",
    "</rule>\n",
    "\"\"\""
   ]
  },
  {
   "cell_type": "code",
   "execution_count": 4,
   "metadata": {},
   "outputs": [],
   "source": [
    "import re\n",
    "\n",
    "\n",
    "def alphabetize_operands_in_string(s):\n",
    "    \"\"\"\n",
    "    assumes input string contains logical OR. e.g.\n",
    "        s = \"can|case|contract|counsel|court|dissent|district|equal|even|evidence|found|jail|judge|motion|people|respect|source|still|that|title|trial|up|view|while|will|you|us|congress|as|myself\"\n",
    "    \"\"\"\n",
    "    if \"|\" not in s:\n",
    "        return s\n",
    "    return \"|\".join(sorted(s.split(\"|\")))\n",
    "\n",
    "\n",
    "def get_value_of_tag(tag_name, xml):\n",
    "    return re.findall(rf\"<{tag_name}.*?>(.*?)</{tag_name}>\", xml)\n",
    "\n",
    "\n",
    "def alphabetize_operands_in_tag(tag_name, xml):\n",
    "    for tag_value in get_value_of_tag(tag_name, xml):\n",
    "        if \"|\" in tag_value:\n",
    "            print(tag_value)\n",
    "            new_tag_value = alphabetize_operands(tag_value)\n",
    "            xml = xml.replace(tag_value, new_tag_value)\n",
    "    return xml\n",
    "\n",
    "\n",
    "def alphabetize_operands(xml):\n",
    "    tag_names_with_operands = [\"token\", \"exception\"]\n",
    "    for tag_name in tag_names_with_operands:\n",
    "        xml = alphabetize_operands_in_tag(tag_name, xml)\n",
    "    return xml"
   ]
  },
  {
   "cell_type": "code",
   "execution_count": 5,
   "metadata": {},
   "outputs": [
    {
     "name": "stdout",
     "output_type": "stream",
     "text": [
      "effective|entry|filing|hearing|interrogation\n",
      "all|are|being|believes|but|by|can|circuit|clear|concerning|concerns|dissent|does|due|even|fails|find|finds|get|given|having|his|hold|holds|if|left|like|long|make|may|might|must|no|note|one|or|other|prior|regarding|see|then|try|will\n",
      "all|are|being|believes|but|by|can|circuit|clear|concerning|concerns|dissent|does|due|even|fails|find|finds|get|given|having|his|hold|holds|if|left|like|long|make|may|might|must|no|note|one|or|other|prior|regarding|see|then|try|will\n"
     ]
    }
   ],
   "source": []
  }
 ],
 "metadata": {
  "kernelspec": {
   "display_name": "briefcatch",
   "language": "python",
   "name": "python3"
  },
  "language_info": {
   "codemirror_mode": {
    "name": "ipython",
    "version": 3
   },
   "file_extension": ".py",
   "mimetype": "text/x-python",
   "name": "python",
   "nbconvert_exporter": "python",
   "pygments_lexer": "ipython3",
   "version": "3.9.18"
  }
 },
 "nbformat": 4,
 "nbformat_minor": 2
}

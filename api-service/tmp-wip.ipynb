{
 "cells": [
  {
   "cell_type": "code",
   "execution_count": 1,
   "metadata": {},
   "outputs": [],
   "source": [
    "%load_ext autoreload\n",
    "%autoreload 2"
   ]
  },
  {
   "cell_type": "code",
   "execution_count": 2,
   "metadata": {},
   "outputs": [],
   "source": [
    "xml1 = \"\"\"\n",
    "<rule id=\"BRIEFCATCH_72217380358443072298334619098248039878\" name=\"BRIEFCATCH_PUNCHINESS_921\">\n",
    "    <pattern>\n",
    "        <token inflected=\"yes\">call</token>\n",
    "        <token>upon</token>\n",
    "    </pattern>\n",
    "    <antipattern>\n",
    "        <token>calling</token>\n",
    "        <token>upon</token>\n",
    "    </pattern>\n",
    "    <message>Would shorter words add punch?|**Example** from Justice Gorsuch: “When **called on** to interpret a statute, this Court generally seeks to discern and apply the ordinary meaning of its terms at the time of their adoption.”|**Example** from Deanne Maynard: “The [order] merely confirms that it was not until later proceedings that he was **called on** to single out these waters.”</message>\n",
    "    <suggestion><match no=\"1\"/> on</suggestion>\n",
    "    <suggestion><match no=\"1\" postag=\"(V.*)\" postag_regexp=\"yes\" postag_replace=\"$1\">ask</match></suggestion>\n",
    "    <short>{\"ruleGroup\":null,\"ruleGroupIdx\":0,\"isConsistency\":false,\"isStyle\":true,\"correctionCount\":2,\"priority\":\"2.84\",\"WORD\":true,\"OUTLOOK\":true}</short>\n",
    "    <example correction=\"called on|asked\">She was <marker>called upon</marker> three times.</example>\n",
    "</rule>\n",
    "\"\"\"\n",
    "xml2 = \"\"\"\n",
    "<rule id=\"BRIEFCATCH_72217380358443072298334619098248039878\" name=\"BRIEFCATCH_PUNCHINESS_921\">\n",
    "    <pattern>\n",
    "        <token inflected=\"yes\">call</token>\n",
    "        <token inflected=\"yes\">FAKE</token>\n",
    "        <token inflected=\"yes\">TOKENs</token>\n",
    "    </pattern>\n",
    "    <pattern>\n",
    "        <token inflected=\"yes\">123</token>\n",
    "        <token inflected=\"yes\">TOKENs</token>\n",
    "    </pattern>\n",
    "    <message>Would shorter words add punch?|**Example** from Justice Gorsuch: “When **called on** to interpret a statute, this Court generally seeks to discern and apply the ordinary meaning of its terms at the time of their adoption.”|**Example** from Deanne Maynard: “The [order] merely confirms that it was not until later proceedings that he was **called on** to single out these waters.”</message>\n",
    "    <suggestion><match no=\"1\"/> on</suggestion>\n",
    "    <suggestion><match no=\"1\" postag=\"(V.*)\" postag_regexp=\"yes\" postag_replace=\"$1\">ask</match></suggestion>\n",
    "    <short>{\"ruleGroup\":null,\"ruleGroupIdx\":0,\"isConsistency\":false,\"isStyle\":true,\"correctionCount\":2,\"priority\":\"2.84\",\"WORD\":true,\"OUTLOOK\":true}</short>\n",
    "    <example correction=\"called on|asked\">She was <marker>called upon</marker> three times.</example>\n",
    "</rule>\n",
    "\"\"\""
   ]
  },
  {
   "cell_type": "code",
   "execution_count": 3,
   "metadata": {},
   "outputs": [],
   "source": [
    "# from utils.dynamic_prompting import (\n",
    "#     get_pos_tag_dicts_from_rule,\n",
    "#     remove_message_and_short_tags,\n",
    "#     rule_has_regex,\n",
    "#     replace_all_instances_of_tag,\n",
    "# )\n",
    "\n",
    "# print(replace_all_instances_of_tag(\"pattern\", xml1, xml2))"
   ]
  },
  {
   "cell_type": "code",
   "execution_count": 4,
   "metadata": {},
   "outputs": [],
   "source": [
    "import openai\n",
    "import os\n",
    "from dotenv import load_dotenv\n",
    "\n",
    "\n",
    "load_dotenv()\n",
    "openai.api_key = os.getenv(\"OPENAI_API_KEY\")"
   ]
  },
  {
   "cell_type": "code",
   "execution_count": 5,
   "metadata": {},
   "outputs": [
    {
     "name": "stderr",
     "output_type": "stream",
     "text": [
      "/Users/consult/miniconda3/envs/briefcatch/lib/python3.9/site-packages/fuzzywuzzy/fuzz.py:11: UserWarning: Using slow pure-python SequenceMatcher. Install python-Levenshtein to remove this warning\n",
      "  warnings.warn('Using slow pure-python SequenceMatcher. Install python-Levenshtein to remove this warning')\n",
      "/Users/consult/miniconda3/envs/briefcatch/lib/python3.9/site-packages/pinecone/index.py:4: TqdmWarning: IProgress not found. Please update jupyter and ipywidgets. See https://ipywidgets.readthedocs.io/en/stable/user_install.html\n",
      "  from tqdm.autonotebook import tqdm\n"
     ]
    },
    {
     "data": {
      "text/plain": [
       "'<rule id=\"BRIEFCATCH_72217380358443072298334619098248039878\" name=\"BRIEFCATCH_PUNCHINESS_921\">\\n    <pattern>\\n        <token inflected=\"yes\">call</token>\\n        <token inflected=\"yes\">FAKE</token>\\n        <token inflected=\"yes\">TOKENs</token>\\n    </pattern>\\n    <pattern>\\n        <token inflected=\"yes\">123</token>\\n        <token inflected=\"yes\">TOKENs</token>\\n    </pattern>\\n    <message>Would shorter words add punch?|**Example** from Justice Gorsuch: “When **called on** to interpret a statute, this Court generally seeks to discern and apply the ordinary meaning of its terms at the time of their adoption.”|**Example** from Deanne Maynard: “The [order] merely confirms that it was not until later proceedings that he was **called on** to single out these waters.”</message>\\n    <suggestion><match no=\"1\"/> on</suggestion>\\n    <suggestion><match no=\"1\" postag=\"(V.*)\" postag_regexp=\"yes\" postag_replace=\"$1\">ask</match></suggestion>\\n    <short>{\"ruleGroup\":null,\"ruleGroupIdx\":0,\"isConsistency\":false,\"isStyle\":true,\"correctionCount\":2,\"priority\":\"2.84\",\"WORD\":true,\"OUTLOOK\":true}</short>\\n    <example correction=\"called on|asked\">She was <marker>called upon</marker> three times.</example>\\n</rule>'"
      ]
     },
     "execution_count": 5,
     "metadata": {},
     "output_type": "execute_result"
    }
   ],
   "source": [
    "from utils.dynamic_rule_checking import *\n",
    "import re\n",
    "\n",
    "re.findall(r\"<rule.*?</rule>\", xml2, re.DOTALL)[0]"
   ]
  },
  {
   "cell_type": "code",
   "execution_count": 13,
   "metadata": {},
   "outputs": [],
   "source": [
    "testxml = \"\"\"\n",
    "<rule id=\"BRIEFCATCH_322580514589798171215317472742154216778\" name=\"BRIEFCATCH_USAGE_45\">\n",
    "    <pattern>\n",
    "        <token>preventative</token>\n",
    "        <token regexp=\"yes\">action|and|care|detention|health|maintenance|measure|measures|medicine|services</token>\n",
    "        \n",
    "    </pattern>\n",
    "    <message>**Preventive** is the preferred form.|**Example** from Justice Sotomayor: “Whether the Fourth Amendment permits the pretextual use of a material witness warrant for **preventive** detention of an individual whom the Government has no intention of using at trial is . . . a closer question than the majority’s opinion suggests.”|**Example** from David Frederick: “New Hampshire has looked at problems with local access to medical services, while Utah uses its data to study **preventive** care.”|**Example** from The 9-11 Report: “We want to ensure that the Bureau’s shift to a **preventive** counterterrorism posture is more . . . .”</message>\n",
    "    <suggestion>preventive</suggestion>\n",
    "    <short>{\"ruleGroup\":null,\"ruleGroupIdx\":0,\"isConsistency\":true,\"isStyle\":true,\"correctionCount\":1,\"priority\":\"1.40\",\"WORD\":true,\"OUTLOOK\":true}</short>\n",
    "    <example correction=\"preventive\">I like <marker>preventative</marker> medicine.</example>\n",
    "</rule>\n",
    "\"\"\""
   ]
  },
  {
   "cell_type": "code",
   "execution_count": 14,
   "metadata": {},
   "outputs": [],
   "source": [
    "resp, xml = check_rule_modification(testxml)"
   ]
  },
  {
   "cell_type": "code",
   "execution_count": 15,
   "metadata": {},
   "outputs": [
    {
     "name": "stdout",
     "output_type": "stream",
     "text": [
      "<rule id=\"BRIEFCATCH_322580514589798171215317472742154216778\" name=\"BRIEFCATCH_USAGE_45\">\n",
      "    <pattern>\n",
      "        <token>preventative</token>\n",
      "        <token regexp=\"yes\">action|and|care|detention|health|maintenance|measure|measures|medicine|services</token>\n",
      "    </pattern>\n",
      "    <message>**Preventive** is the preferred form.|**Example** from Justice Sotomayor: “Whether the Fourth Amendment permits the pretextual use of a material witness warrant for **preventive** detention of an individual whom the Government has no intention of using at trial is . . . a closer question than the majority’s opinion suggests.”|**Example** from David Frederick: “New Hampshire has looked at problems with local access to medical services, while Utah uses its data to study **preventive** care.”|**Example** from The 9-11 Report: “We want to ensure that the Bureau’s shift to a **preventive** counterterrorism posture is more . . . .”</message>\n",
      "    <suggestion>preventive</suggestion>\n",
      "    <short>{\"ruleGroup\":null,\"ruleGroupIdx\":0,\"isConsistency\":true,\"isStyle\":true,\"correctionCount\":1,\"priority\":\"1.40\",\"WORD\":true,\"OUTLOOK\":true}</short>\n",
      "    <example correction=\"preventive\">I like <marker>preventative medicine</marker>.</example>\n",
      "</rule>\n"
     ]
    }
   ],
   "source": [
    "print(resp)"
   ]
  },
  {
   "cell_type": "code",
   "execution_count": 16,
   "metadata": {},
   "outputs": [
    {
     "name": "stdout",
     "output_type": "stream",
     "text": [
      "[{'input_tokens': 8111, 'output_tokens': 316, 'cost': 0.09059}]\n"
     ]
    }
   ],
   "source": [
    "print(xml)"
   ]
  },
  {
   "cell_type": "code",
   "execution_count": null,
   "metadata": {},
   "outputs": [],
   "source": []
  }
 ],
 "metadata": {
  "kernelspec": {
   "display_name": "briefcatch",
   "language": "python",
   "name": "python3"
  },
  "language_info": {
   "codemirror_mode": {
    "name": "ipython",
    "version": 3
   },
   "file_extension": ".py",
   "mimetype": "text/x-python",
   "name": "python",
   "nbconvert_exporter": "python",
   "pygments_lexer": "ipython3",
   "version": "3.9.18"
  }
 },
 "nbformat": 4,
 "nbformat_minor": 2
}

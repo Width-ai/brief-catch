{
 "cells": [
  {
   "cell_type": "code",
   "execution_count": 1,
   "metadata": {},
   "outputs": [],
   "source": [
    "%load_ext autoreload\n",
    "%autoreload 2"
   ]
  },
  {
   "cell_type": "code",
   "execution_count": 2,
   "metadata": {},
   "outputs": [],
   "source": [
    "from utils.regexp_validation import validate_postag_regexp, validate_token_regexp"
   ]
  },
  {
   "cell_type": "markdown",
   "metadata": {},
   "source": [
    "# simple testing\n"
   ]
  },
  {
   "cell_type": "code",
   "execution_count": 3,
   "metadata": {},
   "outputs": [
    {
     "name": "stdout",
     "output_type": "stream",
     "text": [
      "\n",
      "<rule id=\"BRIEFCATCH_23860985463569237141502738364142673900\" name=\"BRIEFCATCH_PUNCHINESS_892\">\n",
      "    <pattern>\n",
      "        <token postag=\"VBG\">\n",
      "        </token>\n",
      "    </pattern>\n",
      "</rule>\n",
      "\n"
     ]
    }
   ],
   "source": [
    "fp_postag = \"\"\"\n",
    "<rule id=\"BRIEFCATCH_23860985463569237141502738364142673900\" name=\"BRIEFCATCH_PUNCHINESS_892\">\n",
    "    <pattern>\n",
    "        <token postag_regexp=\"yes\" postag=\"VBG\">\n",
    "        </token>\n",
    "    </pattern>\n",
    "</rule>\n",
    "\"\"\"\n",
    "print(validate_postag_regexp(fp_postag))"
   ]
  },
  {
   "cell_type": "code",
   "execution_count": 4,
   "metadata": {},
   "outputs": [
    {
     "name": "stdout",
     "output_type": "stream",
     "text": [
      "\n",
      "<rule id=\"BRIEFCATCH_23860985463569237141502738364142673900\" name=\"BRIEFCATCH_PUNCHINESS_892\">\n",
      "    <pattern>\n",
      "        <token postag_regexp=\"yes\" postag=\"VBG|V.*\"></token>\n",
      "    </pattern>\n",
      "</rule>\n",
      "\n"
     ]
    }
   ],
   "source": [
    "fn_postag = \"\"\"\n",
    "<rule id=\"BRIEFCATCH_23860985463569237141502738364142673900\" name=\"BRIEFCATCH_PUNCHINESS_892\">\n",
    "    <pattern>\n",
    "        <token postag=\"VBG|V.*\"></token>\n",
    "    </pattern>\n",
    "</rule>\n",
    "\"\"\"\n",
    "print(validate_postag_regexp(fn_postag))"
   ]
  },
  {
   "cell_type": "code",
   "execution_count": 5,
   "metadata": {},
   "outputs": [
    {
     "name": "stdout",
     "output_type": "stream",
     "text": [
      "\n",
      "</rule>\n",
      "<rule id=\"BRIEFCATCH_142810940769371792650075747430090357151\" name=\"BRIEFCATCH_PUNCHINESS_1155\">\n",
      "    <antipattern>\n",
      "        <token regexp=\"yes\">material|substantial</token>\n",
      "    </antipattern>\n",
      "</rule>\n",
      "\n"
     ]
    }
   ],
   "source": [
    "token_fn = \"\"\"\n",
    "</rule>\n",
    "<rule id=\"BRIEFCATCH_142810940769371792650075747430090357151\" name=\"BRIEFCATCH_PUNCHINESS_1155\">\n",
    "    <antipattern>\n",
    "        <token>material|substantial</token>\n",
    "    </antipattern>\n",
    "</rule>\n",
    "\"\"\"\n",
    "print(validate_token_regexp(token_fn))"
   ]
  },
  {
   "cell_type": "code",
   "execution_count": 6,
   "metadata": {},
   "outputs": [
    {
     "name": "stdout",
     "output_type": "stream",
     "text": [
      "\n",
      "</rule>\n",
      "<rule id=\"BRIEFCATCH_142810940769371792650075747430090357151\" name=\"BRIEFCATCH_PUNCHINESS_1155\">\n",
      "    <antipattern>\n",
      "        <token>material</token>\n",
      "    </antipattern>\n",
      "</rule>\n",
      "\n"
     ]
    }
   ],
   "source": [
    "token_fp = \"\"\"\n",
    "</rule>\n",
    "<rule id=\"BRIEFCATCH_142810940769371792650075747430090357151\" name=\"BRIEFCATCH_PUNCHINESS_1155\">\n",
    "    <antipattern>\n",
    "        <token regexp=\"yes\">material</token>\n",
    "    </antipattern>\n",
    "</rule>\n",
    "\"\"\"\n",
    "print(validate_token_regexp(token_fp))"
   ]
  },
  {
   "cell_type": "markdown",
   "metadata": {},
   "source": [
    "# full rule testing\n"
   ]
  },
  {
   "cell_type": "code",
   "execution_count": 7,
   "metadata": {},
   "outputs": [
    {
     "name": "stdout",
     "output_type": "stream",
     "text": [
      "\n",
      "<rule id=\"BRIEFCATCH_23860985463569237141502738364142673900\" name=\"BRIEFCATCH_PUNCHINESS_892\">\n",
      "    <pattern>\n",
      "        <token inflected=\"yes\">have</token>\n",
      "        <token min=\"0\" regexp=\"yes\">some|real|great|considerable|much</token>\n",
      "        <token>difficulty</token>\n",
      "        <token min=\"0\">in</token>\n",
      "        <token postag=\"VBG\">\n",
      "            <exception regexp=\"yes\">accepting|concerning|following|maintaining|obtaining|pending|regarding|seeing|standing</exception>\n",
      "        </token>\n",
      "    </pattern>\n",
      "    <message>Would shorter words add punch?|**Example** from Justice Thomas: “Only later did courts **wrestle with** the language in § 230(f )(3) suggesting providers are liable for content they help develop ‘in part.’”|**Example** from Justice Barrett: “We need not **wrestle with** these questions in this case, though, because the same standard applies regardless whether *Smith* stays or goes.”</message>\n",
      "    <suggestion>\u0001 trouble \u0005</suggestion>\n",
      "    <suggestion><match no=\"1\" postag=\"(V.*)\" postag_regexp=\"yes\" postag_replace=\"$1\">struggle</match> to <match no=\"5\" postag=\"V.*\" postag_regexp=\"yes\" postag_replace=\"VB\"/></suggestion>\n",
      "    <suggestion><match no=\"1\" postag=\"(V.*)\" postag_regexp=\"yes\" postag_replace=\"$1\">wrestle</match> with \u0005</suggestion>\n",
      "    <short>{\"ruleGroup\":\"BRIEFCATCH_PUNCHINESS_892\",\"ruleGroupIdx\":0,\"isConsistency\":false,\"isStyle\":true,\"correctionCount\":3,\"priority\":\"5.543\"}</short>\n",
      "    <example correction=\"have trouble reaching|struggle to reach|wrestle with reaching\">The experts can <marker>have difficulty reaching</marker> consensus.</example>\n",
      "</rule>\n",
      "\n"
     ]
    }
   ],
   "source": [
    "# 5th token postag should not have postag_regexp=\"yes\"\n",
    "r_postag_false_positive = \"\"\"\n",
    "<rule id=\"BRIEFCATCH_23860985463569237141502738364142673900\" name=\"BRIEFCATCH_PUNCHINESS_892\">\n",
    "    <pattern>\n",
    "        <token inflected=\"yes\">have</token>\n",
    "        <token min=\"0\" regexp=\"yes\">some|real|great|considerable|much</token>\n",
    "        <token>difficulty</token>\n",
    "        <token min=\"0\">in</token>\n",
    "        <token postag_regexp=\"yes\" postag=\"VBG\">\n",
    "            <exception regexp=\"yes\">accepting|concerning|following|maintaining|obtaining|pending|regarding|seeing|standing</exception>\n",
    "        </token>\n",
    "    </pattern>\n",
    "    <message>Would shorter words add punch?|**Example** from Justice Thomas: “Only later did courts **wrestle with** the language in § 230(f )(3) suggesting providers are liable for content they help develop ‘in part.’”|**Example** from Justice Barrett: “We need not **wrestle with** these questions in this case, though, because the same standard applies regardless whether *Smith* stays or goes.”</message>\n",
    "    <suggestion>\\1 trouble \\5</suggestion>\n",
    "    <suggestion><match no=\"1\" postag=\"(V.*)\" postag_regexp=\"yes\" postag_replace=\"$1\">struggle</match> to <match no=\"5\" postag=\"V.*\" postag_regexp=\"yes\" postag_replace=\"VB\"/></suggestion>\n",
    "    <suggestion><match no=\"1\" postag=\"(V.*)\" postag_regexp=\"yes\" postag_replace=\"$1\">wrestle</match> with \\5</suggestion>\n",
    "    <short>{\"ruleGroup\":\"BRIEFCATCH_PUNCHINESS_892\",\"ruleGroupIdx\":0,\"isConsistency\":false,\"isStyle\":true,\"correctionCount\":3,\"priority\":\"5.543\"}</short>\n",
    "    <example correction=\"have trouble reaching|struggle to reach|wrestle with reaching\">The experts can <marker>have difficulty reaching</marker> consensus.</example>\n",
    "</rule>\n",
    "\"\"\"\n",
    "# this should remove postag_regexp from fifth token\n",
    "print(validate_postag_regexp(r_postag_false_positive))"
   ]
  },
  {
   "cell_type": "code",
   "execution_count": 8,
   "metadata": {},
   "outputs": [
    {
     "name": "stdout",
     "output_type": "stream",
     "text": [
      "\n",
      "<rule id=\"BRIEFCATCH_23860985463569237141502738364142673900\" name=\"BRIEFCATCH_PUNCHINESS_892\">\n",
      "    <pattern>\n",
      "        <token inflected=\"yes\">have</token>\n",
      "        <token min=\"0\" regexp=\"yes\">some|real|great|considerable|much</token>\n",
      "        <token>difficulty</token>\n",
      "        <token min=\"0\">in</token>\n",
      "        <token postag_regexp=\"yes\" postag=\"VBG|V.*\">\n",
      "            <exception regexp=\"yes\">accepting|concerning|following|maintaining|obtaining|pending|regarding|seeing|standing</exception>\n",
      "        </token>\n",
      "    </pattern>\n",
      "</rule>\n",
      "\n"
     ]
    }
   ],
   "source": [
    "# modified verison of above rule (see postag of 5th token)\n",
    "r_postag_false_negative = \"\"\"\n",
    "<rule id=\"BRIEFCATCH_23860985463569237141502738364142673900\" name=\"BRIEFCATCH_PUNCHINESS_892\">\n",
    "    <pattern>\n",
    "        <token inflected=\"yes\">have</token>\n",
    "        <token min=\"0\" regexp=\"yes\">some|real|great|considerable|much</token>\n",
    "        <token>difficulty</token>\n",
    "        <token min=\"0\">in</token>\n",
    "        <token postag=\"VBG|V.*\">\n",
    "            <exception regexp=\"yes\">accepting|concerning|following|maintaining|obtaining|pending|regarding|seeing|standing</exception>\n",
    "        </token>\n",
    "    </pattern>\n",
    "</rule>\n",
    "\"\"\"\n",
    "# should add postag_regexp to fifth token\n",
    "print(validate_postag_regexp(r_postag_false_negative))"
   ]
  },
  {
   "cell_type": "code",
   "execution_count": 9,
   "metadata": {},
   "outputs": [
    {
     "name": "stdout",
     "output_type": "stream",
     "text": [
      "\n",
      "</rule>\n",
      "<rule id=\"BRIEFCATCH_142810940769371792650075747430090357151\" name=\"BRIEFCATCH_PUNCHINESS_1155\">\n",
      "    <antipattern>\n",
      "        <token regexp=\"yes\" inflected=\"yes\">constitute|amount|result|lead</token>\n",
      "        <token regexp=\"yes\">to|in</token>\n",
      "        <token regexp=\"yes\">a|an</token>\n",
      "        <token regexp=\"yes\">absolute|actual|appreciable|clear|complete|considerable|credible|definitive|deliberate|bold|distinct|explicit|express|full|genuine|patent|real|realistic|robust|serious|solid|strong|substantial|tangible|total|true|viable</token>\n",
      "        <token regexp=\"yes\">material|substantial</token>\n",
      "        <token regexp=\"yes\">breach</token>\n",
      "        <token regexp=\"yes\">of</token>\n",
      "        <token regexp=\"yes\">a|an|article|contract|duty|his|its|their|trust</token>\n",
      "    </antipattern>\n",
      "    <pattern>\n",
      "        <marker>\n",
      "            <token inflected=\"yes\" regexp=\"yes\">constitute|amount|result|lead</token>\n",
      "            <token min=\"0\" regexp=\"yes\">to|in</token>\n",
      "            <token regexp=\"yes\">a|an</token>\n",
      "            <token min=\"0\" regexp=\"yes\">absolute|actual|appreciable|clear|complete|considerable|credible|definitive|deliberate|bold|distinct|explicit|express|full|genuine|patent|real|realistic|robust|serious|solid|strong|substantial|tangible|total|true|viable</token>\n",
      "            <token min=\"0\" regexp=\"yes\">material|substantial</token>\n",
      "            <token regexp=\"yes\">breach</token>\n",
      "            <token regexp=\"yes\">of</token>\n",
      "            <token regexp=\"yes\" min=\"0\">the</token>\n",
      "        </marker>\n",
      "        <token>\n",
      "            <exception>the</exception>\n",
      "        </token>\n",
      "    </pattern>\n",
      "    <message>Would a stronger verb help engage the reader?|**Example** from Justice Kagan: \"Nebraska did not purposefully set out to **breach** the Compact.\"|**Example** from Morgan Chu: \"[Plaintiff] is reluctant to **breach** its agreement for a simple reason . . . .\"</message>\n",
      "    <suggestion><match no=\"5\" regexp_match=\"^(.+)$\" regexp_replace=\"$1ly\"/> <match no=\"1\" postag=\"(V.*)\" postag_regexp=\"yes\" postag_replace=\"$1\">breach</match> the</suggestion>\n",
      "    <suggestion><match no=\"5\" regexp_match=\"^(.+)$\" regexp_replace=\"$1ly\"/> <match no=\"1\" postag=\"(V.*)\" postag_regexp=\"yes\" postag_replace=\"$1\">breach</match></suggestion>\n",
      "    <short>{\"ruleGroup\":\"BRIEFCATCH_PUNCHINESS_1155\",\"ruleGroupIdx\":1,\"isConsistency\":false,\"isStyle\":true,\"correctionCount\":2,\"priority\":\"8.832\"}</short>\n",
      "    <example correction=\"breached the|breached\">This <marker>amounted to a clear breach of the</marker> contract.</example>\n",
      "    <example>This constituted an actual breach of their trust.</example>\n",
      "</rule>\n",
      "\n"
     ]
    }
   ],
   "source": [
    "# first token missing regexp='yes'\n",
    "r_token_false_negative = \"\"\"\n",
    "</rule>\n",
    "<rule id=\"BRIEFCATCH_142810940769371792650075747430090357151\" name=\"BRIEFCATCH_PUNCHINESS_1155\">\n",
    "    <antipattern>\n",
    "        <token inflected=\"yes\">constitute|amount|result|lead</token>\n",
    "        <token regexp=\"yes\">to|in</token>\n",
    "        <token regexp=\"yes\">a|an</token>\n",
    "        <token regexp=\"yes\">absolute|actual|appreciable|clear|complete|considerable|credible|definitive|deliberate|bold|distinct|explicit|express|full|genuine|patent|real|realistic|robust|serious|solid|strong|substantial|tangible|total|true|viable</token>\n",
    "        <token regexp=\"yes\">material|substantial</token>\n",
    "        <token>breach</token>\n",
    "        <token>of</token>\n",
    "        <token regexp=\"yes\">a|an|article|contract|duty|his|its|their|trust</token>\n",
    "    </antipattern>\n",
    "    <pattern>\n",
    "        <marker>\n",
    "            <token inflected=\"yes\" regexp=\"yes\">constitute|amount|result|lead</token>\n",
    "            <token min=\"0\" regexp=\"yes\">to|in</token>\n",
    "            <token regexp=\"yes\">a|an</token>\n",
    "            <token min=\"0\" regexp=\"yes\">absolute|actual|appreciable|clear|complete|considerable|credible|definitive|deliberate|bold|distinct|explicit|express|full|genuine|patent|real|realistic|robust|serious|solid|strong|substantial|tangible|total|true|viable</token>\n",
    "            <token min=\"0\" regexp=\"yes\">material|substantial</token>\n",
    "            <token>breach</token>\n",
    "            <token>of</token>\n",
    "            <token min=\"0\">the</token>\n",
    "        </marker>\n",
    "        <token>\n",
    "            <exception>the</exception>\n",
    "        </token>\n",
    "    </pattern>\n",
    "    <message>Would a stronger verb help engage the reader?|**Example** from Justice Kagan: \"Nebraska did not purposefully set out to **breach** the Compact.\"|**Example** from Morgan Chu: \"[Plaintiff] is reluctant to **breach** its agreement for a simple reason . . . .\"</message>\n",
    "    <suggestion><match no=\"5\" regexp_match=\"^(.+)$\" regexp_replace=\"$1ly\"/> <match no=\"1\" postag=\"(V.*)\" postag_regexp=\"yes\" postag_replace=\"$1\">breach</match> the</suggestion>\n",
    "    <suggestion><match no=\"5\" regexp_match=\"^(.+)$\" regexp_replace=\"$1ly\"/> <match no=\"1\" postag=\"(V.*)\" postag_regexp=\"yes\" postag_replace=\"$1\">breach</match></suggestion>\n",
    "    <short>{\"ruleGroup\":\"BRIEFCATCH_PUNCHINESS_1155\",\"ruleGroupIdx\":1,\"isConsistency\":false,\"isStyle\":true,\"correctionCount\":2,\"priority\":\"8.832\"}</short>\n",
    "    <example correction=\"breached the|breached\">This <marker>amounted to a clear breach of the</marker> contract.</example>\n",
    "    <example>This constituted an actual breach of their trust.</example>\n",
    "</rule>\n",
    "\"\"\"\n",
    "# should add regexp to first token\n",
    "print(validate_token_regexp(r_token_false_negative))"
   ]
  },
  {
   "cell_type": "code",
   "execution_count": 10,
   "metadata": {},
   "outputs": [
    {
     "name": "stdout",
     "output_type": "stream",
     "text": [
      "\n",
      "</rule>\n",
      "<rule id=\"BRIEFCATCH_142810940769371792650075747430090357151\" name=\"BRIEFCATCH_PUNCHINESS_1155\">\n",
      "    <<token>a|an|article|contract|duty|his|its|their|trust</token>tipattern>\n",
      "        <token>to</token>\n",
      "        <token>a|<token>a|an|article|contract|duty|his|its|their|trust</token></token>|<token>a|<token>a|an|article|contract|duty|his|its|their|trust</token></token>\n",
      "        <token>a|<token>a|an|article|contract|duty|his|its|their|trust</token></token>bsolute|<token>absolute|actual|appreciable|clear|complete|considerable|credible|definitive|deliberate|bold|distinct|explicit|express|full|genuine|patent|real|realistic|robust|serious|solid|strong|subst<token>a|an|article|contract|duty|his|its|their|trust</token>tial|t<token>a|an|article|contract|duty|his|its|their|trust</token>gible|total|true|viable</token>|<token>absolute|actual|appreciable|clear|complete|considerable|credible|definitive|deliberate|bold|distinct|explicit|express|full|genuine|patent|real|realistic|robust|serious|solid|strong|subst<token>a|an|article|contract|duty|his|its|their|trust</token>tial|t<token>a|an|article|contract|duty|his|its|their|trust</token>gible|total|true|viable</token>|<token>absolute|actual|appreciable|clear|complete|considerable|credible|definitive|deliberate|bold|distinct|explicit|express|full|genuine|patent|real|realistic|robust|serious|solid|strong|subst<token>a|an|article|contract|duty|his|its|their|trust</token>tial|t<token>a|an|article|contract|duty|his|its|their|trust</token>gible|total|true|viable</token>|<token>absolute|actual|appreciable|clear|complete|considerable|credible|definitive|deliberate|bold|distinct|explicit|express|full|genuine|patent|real|realistic|robust|serious|solid|strong|subst<token>a|an|article|contract|duty|his|its|their|trust</token>tial|t<token>a|an|article|contract|duty|his|its|their|trust</token>gible|total|true|viable</token>|<token>absolute|actual|appreciable|clear|complete|considerable|credible|definitive|deliberate|bold|distinct|explicit|express|full|genuine|patent|real|realistic|robust|serious|solid|strong|subst<token>a|an|article|contract|duty|his|its|their|trust</token>tial|t<token>a|an|article|contract|duty|his|its|their|trust</token>gible|total|true|viable</token>|<token>absolute|actual|appreciable|clear|complete|considerable|credible|definitive|deliberate|bold|distinct|explicit|express|full|genuine|patent|real|realistic|robust|serious|solid|strong|subst<token>a|an|article|contract|duty|his|its|their|trust</token>tial|t<token>a|an|article|contract|duty|his|its|their|trust</token>gible|total|true|viable</token>|<token>absolute|actual|appreciable|clear|complete|considerable|credible|definitive|deliberate|bold|distinct|explicit|express|full|genuine|patent|real|realistic|robust|serious|solid|strong|subst<token>a|an|article|contract|duty|his|its|their|trust</token>tial|t<token>a|an|article|contract|duty|his|its|their|trust</token>gible|total|true|viable</token>|<token>absolute|actual|appreciable|clear|complete|considerable|credible|definitive|deliberate|bold|distinct|explicit|express|full|genuine|patent|real|realistic|robust|serious|solid|strong|subst<token>a|an|article|contract|duty|his|its|their|trust</token>tial|t<token>a|an|article|contract|duty|his|its|their|trust</token>gible|total|true|viable</token>|<token>absolute|actual|appreciable|clear|complete|considerable|credible|definitive|deliberate|bold|distinct|explicit|express|full|genuine|patent|real|realistic|robust|serious|solid|strong|subst<token>a|an|article|contract|duty|his|its|their|trust</token>tial|t<token>a|an|article|contract|duty|his|its|their|trust</token>gible|total|true|viable</token>|<token>absolute|actual|appreciable|clear|complete|considerable|credible|definitive|deliberate|bold|distinct|explicit|express|full|genuine|patent|real|realistic|robust|serious|solid|strong|subst<token>a|an|article|contract|duty|his|its|their|trust</token>tial|t<token>a|an|article|contract|duty|his|its|their|trust</token>gible|total|true|viable</token>|<token>absolute|actual|appreciable|clear|complete|considerable|credible|definitive|deliberate|bold|distinct|explicit|express|full|genuine|patent|real|realistic|robust|serious|solid|strong|subst<token>a|an|article|contract|duty|his|its|their|trust</token>tial|t<token>a|an|article|contract|duty|his|its|their|trust</token>gible|total|true|viable</token>|<token>absolute|actual|appreciable|clear|complete|considerable|credible|definitive|deliberate|bold|distinct|explicit|express|full|genuine|patent|real|realistic|robust|serious|solid|strong|subst<token>a|an|article|contract|duty|his|its|their|trust</token>tial|t<token>a|an|article|contract|duty|his|its|their|trust</token>gible|total|true|viable</token>|<token>absolute|actual|appreciable|clear|complete|considerable|credible|definitive|deliberate|bold|distinct|explicit|express|full|genuine|patent|real|realistic|robust|serious|solid|strong|subst<token>a|an|article|contract|duty|his|its|their|trust</token>tial|t<token>a|an|article|contract|duty|his|its|their|trust</token>gible|total|true|viable</token>|<token>absolute|actual|appreciable|clear|complete|considerable|credible|definitive|deliberate|bold|distinct|explicit|express|full|genuine|patent|real|realistic|robust|serious|solid|strong|subst<token>a|an|article|contract|duty|his|its|their|trust</token>tial|t<token>a|an|article|contract|duty|his|its|their|trust</token>gible|total|true|viable</token>|<token>absolute|actual|appreciable|clear|complete|considerable|credible|definitive|deliberate|bold|distinct|explicit|express|full|genuine|patent|real|realistic|robust|serious|solid|strong|subst<token>a|an|article|contract|duty|his|its|their|trust</token>tial|t<token>a|an|article|contract|duty|his|its|their|trust</token>gible|total|true|viable</token>|<token>absolute|actual|appreciable|clear|complete|considerable|credible|definitive|deliberate|bold|distinct|explicit|express|full|genuine|patent|real|realistic|robust|serious|solid|strong|subst<token>a|an|article|contract|duty|his|its|their|trust</token>tial|t<token>a|an|article|contract|duty|his|its|their|trust</token>gible|total|true|viable</token>|<token>absolute|actual|appreciable|clear|complete|considerable|credible|definitive|deliberate|bold|distinct|explicit|express|full|genuine|patent|real|realistic|robust|serious|solid|strong|subst<token>a|an|article|contract|duty|his|its|their|trust</token>tial|t<token>a|an|article|contract|duty|his|its|their|trust</token>gible|total|true|viable</token>istic|<token>absolute|actual|appreciable|clear|complete|considerable|credible|definitive|deliberate|bold|distinct|explicit|express|full|genuine|patent|real|realistic|robust|serious|solid|strong|subst<token>a|an|article|contract|duty|his|its|their|trust</token>tial|t<token>a|an|article|contract|duty|his|its|their|trust</token>gible|total|true|viable</token>|<token>absolute|actual|appreciable|clear|complete|considerable|credible|definitive|deliberate|bold|distinct|explicit|express|full|genuine|patent|real|realistic|robust|serious|solid|strong|subst<token>a|an|article|contract|duty|his|its|their|trust</token>tial|t<token>a|an|article|contract|duty|his|its|their|trust</token>gible|total|true|viable</token>|<token>absolute|actual|appreciable|clear|complete|considerable|credible|definitive|deliberate|bold|distinct|explicit|express|full|genuine|patent|real|realistic|robust|serious|solid|strong|subst<token>a|an|article|contract|duty|his|its|their|trust</token>tial|t<token>a|an|article|contract|duty|his|its|their|trust</token>gible|total|true|viable</token>|<token>absolute|actual|appreciable|clear|complete|considerable|credible|definitive|deliberate|bold|distinct|explicit|express|full|genuine|patent|real|realistic|robust|serious|solid|strong|subst<token>a|an|article|contract|duty|his|its|their|trust</token>tial|t<token>a|an|article|contract|duty|his|its|their|trust</token>gible|total|true|viable</token>|<token>absolute|actual|appreciable|clear|complete|considerable|credible|definitive|deliberate|bold|distinct|explicit|express|full|genuine|patent|real|realistic|robust|serious|solid|strong|subst<token>a|an|article|contract|duty|his|its|their|trust</token>tial|t<token>a|an|article|contract|duty|his|its|their|trust</token>gible|total|true|viable</token>|<token>absolute|actual|appreciable|clear|complete|considerable|credible|definitive|deliberate|bold|distinct|explicit|express|full|genuine|patent|real|realistic|robust|serious|solid|strong|subst<token>a|an|article|contract|duty|his|its|their|trust</token>tial|t<token>a|an|article|contract|duty|his|its|their|trust</token>gible|total|true|viable</token>|<token>absolute|actual|appreciable|clear|complete|considerable|credible|definitive|deliberate|bold|distinct|explicit|express|full|genuine|patent|real|realistic|robust|serious|solid|strong|subst<token>a|an|article|contract|duty|his|its|their|trust</token>tial|t<token>a|an|article|contract|duty|his|its|their|trust</token>gible|total|true|viable</token>|<token>absolute|actual|appreciable|clear|complete|considerable|credible|definitive|deliberate|bold|distinct|explicit|express|full|genuine|patent|real|realistic|robust|serious|solid|strong|subst<token>a|an|article|contract|duty|his|its|their|trust</token>tial|t<token>a|an|article|contract|duty|his|its|their|trust</token>gible|total|true|viable</token>|<token>absolute|actual|appreciable|clear|complete|considerable|credible|definitive|deliberate|bold|distinct|explicit|express|full|genuine|patent|real|realistic|robust|serious|solid|strong|subst<token>a|an|article|contract|duty|his|its|their|trust</token>tial|t<token>a|an|article|contract|duty|his|its|their|trust</token>gible|total|true|viable</token>\n",
      "        <token>material|subst<token>a|an|article|contract|duty|his|its|their|trust</token>tial</token>|<token>absolute|actual|appreciable|clear|complete|considerable|credible|definitive|deliberate|bold|distinct|explicit|express|full|genuine|patent|real|realistic|robust|serious|solid|strong|subst<token>a|an|article|contract|duty|his|its|their|trust</token>tial|t<token>a|an|article|contract|duty|his|its|their|trust</token>gible|total|true|viable</token></token>\n",
      "        <token>breach</token>\n",
      "        <token>of</token>\n",
      "        <token>a|<token>a|an|article|contract|duty|his|its|their|trust</token></token>|<token>a|an|article|contract|duty|his|its|their|trust</token>|<token>a|an|article|contract|duty|his|its|their|trust</token>|<token>a|an|article|contract|duty|his|its|their|trust</token>|<token>a|an|article|contract|duty|his|its|their|trust</token>|<token>a|an|article|contract|duty|his|its|their|trust</token>|<token>a|an|article|contract|duty|his|its|their|trust</token>|<token>a|an|article|contract|duty|his|its|their|trust</token>|<token>a|an|article|contract|duty|his|its|their|trust</token>\n",
      "    </<token>a|an|article|contract|duty|his|its|their|trust</token>tipattern>\n",
      "</rule>\n",
      "\n"
     ]
    }
   ],
   "source": [
    "# modified first token from rule above\n",
    "r_token_false_positive = \"\"\"\n",
    "</rule>\n",
    "<rule id=\"BRIEFCATCH_142810940769371792650075747430090357151\" name=\"BRIEFCATCH_PUNCHINESS_1155\">\n",
    "    <antipattern>\n",
    "        <token regexp=\"yes\">to</token>\n",
    "        <token regexp=\"yes\">a|an</token>\n",
    "        <token regexp=\"yes\">absolute|actual|appreciable|clear|complete|considerable|credible|definitive|deliberate|bold|distinct|explicit|express|full|genuine|patent|real|realistic|robust|serious|solid|strong|substantial|tangible|total|true|viable</token>\n",
    "        <token regexp=\"yes\">material|substantial</token>\n",
    "        <token>breach</token>\n",
    "        <token>of</token>\n",
    "        <token regexp=\"yes\">a|an|article|contract|duty|his|its|their|trust</token>\n",
    "    </antipattern>\n",
    "</rule>\n",
    "\"\"\"\n",
    "# should remove regexp from first token\n",
    "print(validate_token_regexp(r_token_false_positive))"
   ]
  }
 ],
 "metadata": {
  "kernelspec": {
   "display_name": "briefcatch",
   "language": "python",
   "name": "python3"
  },
  "language_info": {
   "codemirror_mode": {
    "name": "ipython",
    "version": 3
   },
   "file_extension": ".py",
   "mimetype": "text/x-python",
   "name": "python",
   "nbconvert_exporter": "python",
   "pygments_lexer": "ipython3",
   "version": "3.9.18"
  }
 },
 "nbformat": 4,
 "nbformat_minor": 2
}

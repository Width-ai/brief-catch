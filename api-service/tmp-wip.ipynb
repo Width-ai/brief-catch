{
 "cells": [
  {
   "cell_type": "code",
   "execution_count": 1,
   "metadata": {},
   "outputs": [],
   "source": [
    "%load_ext autoreload\n",
    "%autoreload 2"
   ]
  },
  {
   "cell_type": "code",
   "execution_count": 2,
   "metadata": {},
   "outputs": [],
   "source": [
    "xml1 = \"\"\"\n",
    "<rule id=\"BRIEFCATCH_72217380358443072298334619098248039878\" name=\"BRIEFCATCH_PUNCHINESS_921\">\n",
    "    <pattern>\n",
    "        <token inflected=\"yes\">call</token>\n",
    "        <token>upon</token>\n",
    "    </pattern>\n",
    "    <antipattern>\n",
    "        <token>calling</token>\n",
    "        <token>upon</token>\n",
    "    </pattern>\n",
    "    <message>Would shorter words add punch?|**Example** from Justice Gorsuch: “When **called on** to interpret a statute, this Court generally seeks to discern and apply the ordinary meaning of its terms at the time of their adoption.”|**Example** from Deanne Maynard: “The [order] merely confirms that it was not until later proceedings that he was **called on** to single out these waters.”</message>\n",
    "    <suggestion><match no=\"1\"/> on</suggestion>\n",
    "    <suggestion><match no=\"1\" postag=\"(V.*)\" postag_regexp=\"yes\" postag_replace=\"$1\">ask</match></suggestion>\n",
    "    <short>{\"ruleGroup\":null,\"ruleGroupIdx\":0,\"isConsistency\":false,\"isStyle\":true,\"correctionCount\":2,\"priority\":\"2.84\",\"WORD\":true,\"OUTLOOK\":true}</short>\n",
    "    <example correction=\"called on|asked\">She was <marker>called upon</marker> three times.</example>\n",
    "</rule>\n",
    "\"\"\"\n",
    "xml2 = \"\"\"\n",
    "<rule id=\"BRIEFCATCH_72217380358443072298334619098248039878\" name=\"BRIEFCATCH_PUNCHINESS_921\">\n",
    "    <pattern>\n",
    "        <token inflected=\"yes\">call</token>\n",
    "        <token inflected=\"yes\">FAKE</token>\n",
    "        <token inflected=\"yes\">TOKENs</token>\n",
    "    </pattern>\n",
    "    <pattern>\n",
    "        <token inflected=\"yes\">123</token>\n",
    "        <token inflected=\"yes\">TOKENs</token>\n",
    "    </pattern>\n",
    "    <message>Would shorter words add punch?|**Example** from Justice Gorsuch: “When **called on** to interpret a statute, this Court generally seeks to discern and apply the ordinary meaning of its terms at the time of their adoption.”|**Example** from Deanne Maynard: “The [order] merely confirms that it was not until later proceedings that he was **called on** to single out these waters.”</message>\n",
    "    <suggestion><match no=\"1\"/> on</suggestion>\n",
    "    <suggestion><match no=\"1\" postag=\"(V.*)\" postag_regexp=\"yes\" postag_replace=\"$1\">ask</match></suggestion>\n",
    "    <short>{\"ruleGroup\":null,\"ruleGroupIdx\":0,\"isConsistency\":false,\"isStyle\":true,\"correctionCount\":2,\"priority\":\"2.84\",\"WORD\":true,\"OUTLOOK\":true}</short>\n",
    "    <example correction=\"called on|asked\">She was <marker>called upon</marker> three times.</example>\n",
    "</rule>\n",
    "\"\"\""
   ]
  },
  {
   "cell_type": "code",
   "execution_count": 3,
   "metadata": {},
   "outputs": [],
   "source": [
    "# from utils.dynamic_prompting import (\n",
    "#     get_pos_tag_dicts_from_rule,\n",
    "#     remove_message_and_short_tags,\n",
    "#     rule_has_regex,\n",
    "#     replace_all_instances_of_tag,\n",
    "# )\n",
    "\n",
    "# print(replace_all_instances_of_tag(\"pattern\", xml1, xml2))"
   ]
  },
  {
   "cell_type": "code",
   "execution_count": 4,
   "metadata": {},
   "outputs": [],
   "source": [
    "import openai\n",
    "import os\n",
    "from dotenv import load_dotenv\n",
    "\n",
    "\n",
    "load_dotenv()\n",
    "openai.api_key = os.getenv(\"OPENAI_API_KEY\")"
   ]
  },
  {
   "cell_type": "code",
   "execution_count": 5,
   "metadata": {},
   "outputs": [
    {
     "name": "stderr",
     "output_type": "stream",
     "text": [
      "/Users/consult/miniconda3/envs/briefcatch/lib/python3.9/site-packages/fuzzywuzzy/fuzz.py:11: UserWarning: Using slow pure-python SequenceMatcher. Install python-Levenshtein to remove this warning\n",
      "  warnings.warn('Using slow pure-python SequenceMatcher. Install python-Levenshtein to remove this warning')\n",
      "/Users/consult/miniconda3/envs/briefcatch/lib/python3.9/site-packages/pinecone/index.py:4: TqdmWarning: IProgress not found. Please update jupyter and ipywidgets. See https://ipywidgets.readthedocs.io/en/stable/user_install.html\n",
      "  from tqdm.autonotebook import tqdm\n"
     ]
    },
    {
     "data": {
      "text/plain": [
       "'<rule id=\"BRIEFCATCH_72217380358443072298334619098248039878\" name=\"BRIEFCATCH_PUNCHINESS_921\">\\n    <pattern>\\n        <token inflected=\"yes\">call</token>\\n        <token inflected=\"yes\">FAKE</token>\\n        <token inflected=\"yes\">TOKENs</token>\\n    </pattern>\\n    <pattern>\\n        <token inflected=\"yes\">123</token>\\n        <token inflected=\"yes\">TOKENs</token>\\n    </pattern>\\n    <message>Would shorter words add punch?|**Example** from Justice Gorsuch: “When **called on** to interpret a statute, this Court generally seeks to discern and apply the ordinary meaning of its terms at the time of their adoption.”|**Example** from Deanne Maynard: “The [order] merely confirms that it was not until later proceedings that he was **called on** to single out these waters.”</message>\\n    <suggestion><match no=\"1\"/> on</suggestion>\\n    <suggestion><match no=\"1\" postag=\"(V.*)\" postag_regexp=\"yes\" postag_replace=\"$1\">ask</match></suggestion>\\n    <short>{\"ruleGroup\":null,\"ruleGroupIdx\":0,\"isConsistency\":false,\"isStyle\":true,\"correctionCount\":2,\"priority\":\"2.84\",\"WORD\":true,\"OUTLOOK\":true}</short>\\n    <example correction=\"called on|asked\">She was <marker>called upon</marker> three times.</example>\\n</rule>'"
      ]
     },
     "execution_count": 5,
     "metadata": {},
     "output_type": "execute_result"
    }
   ],
   "source": [
    "from utils.dynamic_rule_checking import *\n",
    "import re\n",
    "\n",
    "re.findall(r\"<rule.*?</rule>\", xml2, re.DOTALL)[0]"
   ]
  },
  {
   "cell_type": "code",
   "execution_count": 9,
   "metadata": {},
   "outputs": [],
   "source": [
    "testxml = \"\"\"\n",
    "<rule id=\"BRIEFCATCH_295444651289759397744766776595353416512\" name=\"BRIEFCATCH_PUNCHINESS_692\">\n",
    "    <pattern>\n",
    "        <token>\n",
    "            <exception regexp=\"yes\">about|abroad|absolutely|after|ago|alike|alone|also|anywhere|as|as|been|before|below|clearly|completely|could|down|easily|even|far|here|hereby|herein|hereto|heretofore|hereunder|if|late|left|less|less|likely|little|might|more|more|most|much|nationwide|not|not|nothing|now|obviously|offshore|once|only|onward|out|patently|percent|previously|prior|pro|rather|right|same|since|so|strange|there|thereby|thereof|thereto|today|too|totally|up|upward|way|well|will|would|yet</exception>\n",
    "        </token>\n",
    "        <token regexp=\"yes\">already|also|always|ever|formally|long|never|now|often|recently|repeatedly|specifically</token>\n",
    "        <token regexp=\"yes\">had|has|have</token>\n",
    "        <token postag=\"VBN\"/>\n",
    "    </pattern>\n",
    "    <message>Splitting the verb phrase is usually more natural.|**Example** from Chief Justice Roberts: “[P]laintiffs **have largely chosen** not to defend the decision below on that ground.”|**Example** from Justice Scalia: “The core of this right **has historically been**, and remains today . . . .”|**Example** from Linda Coberly: “This Court **has long recognized** that only Congress may create exemptions from federal statutes, and it **has never recognized** the judicial exemption that Petitioners now seek.”|**Example** from Maureen Mahoney and Greg Garre: “This Court **has never come close** to recognizing such a remarkable position.”</message>\n",
    "    <suggestion><match no=\"1\"/> <match no=\"3\"/> <match no=\"2\"/> <match no=\"4\"/></suggestion>\n",
    "    <short>{\"ruleGroup\":null,\"ruleGroupIdx\":0,\"isConsistency\":false,\"isStyle\":true,\"correctionCount\":1,\"priority\":\"4.3932\",\"WORD\":true,\"OUTLOOK\":true}</short>\n",
    "    <example correction=\"And had repeatedly shown\"><marker>And repeatedly had shown</marker> that the prosecutor overstepped.</example>\n",
    "    <example correction=\"I don't have input\">I don't <marker>have input</marker> on this topic</example>\n",
    "</rule>\n",
    "\"\"\""
   ]
  },
  {
   "cell_type": "code",
   "execution_count": 10,
   "metadata": {},
   "outputs": [],
   "source": [
    "resp, xml = check_rule_modification(testxml)"
   ]
  },
  {
   "cell_type": "code",
   "execution_count": 11,
   "metadata": {},
   "outputs": [
    {
     "name": "stdout",
     "output_type": "stream",
     "text": [
      "<thoughts>The rule has 1 pattern and 1 corresponding example tag, which is correct. However, the example tag associated with the pattern does not follow the structure defined in the instructions. The marker tags in the example tag do not span the section of text represented by the pattern, and the correction attribute does not reflect the suggestion tag properly. The suggestion tag is represented in the correction field of the example tag, but the example itself is incorrect. The rule needs to be corrected to match the pattern with the example and to ensure the example tag's correction attribute reflects the suggestion tag properly.</thoughts>\n",
      "<rule id=\"BRIEFCATCH_295444651289759397744766776595353416512\" name=\"BRIEFCATCH_PUNCHINESS_692\">\n",
      "    <pattern>\n",
      "        <token>\n",
      "            <exception regexp=\"yes\">about|abroad|absolutely|after|ago|alike|alone|also|anywhere|as|as|been|before|below|clearly|completely|could|down|easily|even|far|here|hereby|herein|hereto|heretofore|hereunder|if|late|left|less|less|likely|little|might|more|more|most|much|nationwide|not|not|nothing|now|obviously|offshore|once|only|onward|out|patently|percent|previously|prior|pro|rather|right|same|since|so|strange|there|thereby|thereof|thereto|today|too|totally|up|upward|way|well|will|would|yet</exception>\n",
      "        </token>\n",
      "        <token regexp=\"yes\">already|also|always|ever|formally|long|never|now|often|recently|repeatedly|specifically</token>\n",
      "        <token regexp=\"yes\">had|has|have</token>\n",
      "        <token postag=\"VBN\"/>\n",
      "    </pattern>\n",
      "    <message>Splitting the verb phrase is usually more natural.|**Example** from Chief Justice Roberts: “[P]laintiffs **have largely chosen** not to defend the decision below on that ground.”|**Example** from Justice Scalia: “The core of this right **has historically been**, and remains today . . . .”|**Example** from Linda Coberly: “This Court **has long recognized** that only Congress may create exemptions from federal statutes, and it **has never recognized** the judicial exemption that Petitioners now seek.”|**Example** from Maureen Mahoney and Greg Garre: “This Court **has never come close** to recognizing such a remarkable position.”</message>\n",
      "    <suggestion><match no=\"1\"/> <match no=\"3\"/> <match no=\"2\"/> <match no=\"4\"/></suggestion>\n",
      "    <short>{\"ruleGroup\":null,\"ruleGroupIdx\":0,\"isConsistency\":false,\"isStyle\":true,\"correctionCount\":1,\"priority\":\"4.3932\",\"WORD\":true,\"OUTLOOK\":true}</short>\n",
      "    <example correction=\"And had repeatedly shown\">And <marker>repeatedly had shown</marker> that the prosecutor overstepped.</example>\n",
      "</rule>\n"
     ]
    }
   ],
   "source": [
    "print(resp)"
   ]
  },
  {
   "cell_type": "code",
   "execution_count": 12,
   "metadata": {},
   "outputs": [
    {
     "name": "stdout",
     "output_type": "stream",
     "text": [
      "<rule id=\"BRIEFCATCH_295444651289759397744766776595353416512\" name=\"BRIEFCATCH_PUNCHINESS_692\">\n",
      "    <pattern>\n",
      "        <token>\n",
      "            <exception regexp=\"yes\">about|abroad|absolutely|after|ago|alike|alone|also|anywhere|as|as|been|before|below|clearly|completely|could|down|easily|even|far|here|hereby|herein|hereto|heretofore|hereunder|if|late|left|less|less|likely|little|might|more|more|most|much|nationwide|not|not|nothing|now|obviously|offshore|once|only|onward|out|patently|percent|previously|prior|pro|rather|right|same|since|so|strange|there|thereby|thereof|thereto|today|too|totally|up|upward|way|well|will|would|yet</exception>\n",
      "        </token>\n",
      "        <token regexp=\"yes\">already|also|always|ever|formally|long|never|now|often|recently|repeatedly|specifically</token>\n",
      "        <token regexp=\"yes\">had|has|have</token>\n",
      "        <token postag=\"VBN\"/>\n",
      "    </pattern>\n",
      "    <message>Splitting the verb phrase is usually more natural.|**Example** from Chief Justice Roberts: “[P]laintiffs **have largely chosen** not to defend the decision below on that ground.”|**Example** from Justice Scalia: “The core of this right **has historically been**, and remains today . . . .”|**Example** from Linda Coberly: “This Court **has long recognized** that only Congress may create exemptions from federal statutes, and it **has never recognized** the judicial exemption that Petitioners now seek.”|**Example** from Maureen Mahoney and Greg Garre: “This Court **has never come close** to recognizing such a remarkable position.”</message>\n",
      "    <suggestion><match no=\"1\"/> <match no=\"3\"/> <match no=\"2\"/> <match no=\"4\"/></suggestion>\n",
      "    <short>{\"ruleGroup\":null,\"ruleGroupIdx\":0,\"isConsistency\":false,\"isStyle\":true,\"correctionCount\":1,\"priority\":\"4.3932\",\"WORD\":true,\"OUTLOOK\":true}</short>\n",
      "    <example correction=\"And had repeatedly shown\">And <marker>repeatedly had shown</marker> that the prosecutor overstepped.</example>\n",
      "</rule>\n"
     ]
    }
   ],
   "source": [
    "print(xml)"
   ]
  },
  {
   "cell_type": "code",
   "execution_count": null,
   "metadata": {},
   "outputs": [],
   "source": []
  }
 ],
 "metadata": {
  "kernelspec": {
   "display_name": "briefcatch",
   "language": "python",
   "name": "python3"
  },
  "language_info": {
   "codemirror_mode": {
    "name": "ipython",
    "version": 3
   },
   "file_extension": ".py",
   "mimetype": "text/x-python",
   "name": "python",
   "nbconvert_exporter": "python",
   "pygments_lexer": "ipython3",
   "version": "3.9.18"
  }
 },
 "nbformat": 4,
 "nbformat_minor": 2
}

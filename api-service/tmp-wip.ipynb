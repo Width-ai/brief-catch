{
 "cells": [
  {
   "cell_type": "code",
   "execution_count": 1,
   "metadata": {},
   "outputs": [],
   "source": [
    "%load_ext autoreload\n",
    "%autoreload 2"
   ]
  },
  {
   "cell_type": "code",
   "execution_count": 2,
   "metadata": {},
   "outputs": [],
   "source": [
    "xml = \"\"\"\n",
    "<rule id=\"BRIEFCATCH_72217380358443072298334619098248039878\" name=\"BRIEFCATCH_PUNCHINESS_921\">\n",
    "    <pattern>\n",
    "        <token inflected=\"yes\">call</token>\n",
    "        <token>upon</token>\n",
    "    </pattern>\n",
    "    <message>Would shorter words add punch?|**Example** from Justice Gorsuch: “When **called on** to interpret a statute, this Court generally seeks to discern and apply the ordinary meaning of its terms at the time of their adoption.”|**Example** from Deanne Maynard: “The [order] merely confirms that it was not until later proceedings that he was **called on** to single out these waters.”</message>\n",
    "    <suggestion><match no=\"1\"/> on</suggestion>\n",
    "    <suggestion><match no=\"1\" postag=\"(V.*)\" postag_regexp=\"yes\" postag_replace=\"$1\">ask</match></suggestion>\n",
    "    <short>{\"ruleGroup\":null,\"ruleGroupIdx\":0,\"isConsistency\":false,\"isStyle\":true,\"correctionCount\":2,\"priority\":\"2.84\",\"WORD\":true,\"OUTLOOK\":true}</short>\n",
    "    <example correction=\"called on|asked\">She was <marker>called upon</marker> three times.</example>\n",
    "</rule>\n",
    "\"\"\""
   ]
  },
  {
   "cell_type": "code",
   "execution_count": 3,
   "metadata": {},
   "outputs": [
    {
     "name": "stderr",
     "output_type": "stream",
     "text": [
      "/Users/consult/miniconda3/envs/briefcatch/lib/python3.9/site-packages/pinecone/index.py:4: TqdmWarning: IProgress not found. Please update jupyter and ipywidgets. See https://ipywidgets.readthedocs.io/en/stable/user_install.html\n",
      "  from tqdm.autonotebook import tqdm\n"
     ]
    }
   ],
   "source": [
    "import os\n",
    "import openai\n",
    "from dotenv import load_dotenv\n",
    "\n",
    "load_dotenv()\n",
    "openai.api_key = os.getenv(\"OPENAI_API_KEY\")\n",
    "from utils.example_tag_validation import replace_examples, generate_corrected_examples"
   ]
  },
  {
   "cell_type": "code",
   "execution_count": 4,
   "metadata": {},
   "outputs": [
    {
     "name": "stderr",
     "output_type": "stream",
     "text": [
      "2024-02-16 13:05:09,048 [INFO] resp='{\\n  \"thought\": \"The provided rule has a pattern that matches the phrase \\'call upon\\' with suggestions to replace it with \\'call on\\' or \\'ask\\'. The example given correctly demonstrates the pattern with the phrase \\'called upon\\' marked and provides the appropriate corrections \\'called on\\' or \\'asked\\'. Therefore, the example tag is correct as it follows the rules for pattern matching examples by incorporating the suggestion as a correction field and surrounding the part of the sentence that matches the pattern with marker tags. There is no need to add or rewrite any examples for this rule.\",\\n  \"examples\": [\\n    \"<example correction=\\\\\"called on|asked\\\\\">She was <marker>called upon</marker> three times.</example>\"\\n  ]\\n}'\n"
     ]
    }
   ],
   "source": [
    "examples_list, usages = generate_corrected_examples(xml)"
   ]
  },
  {
   "cell_type": "code",
   "execution_count": 5,
   "metadata": {},
   "outputs": [
    {
     "data": {
      "text/plain": [
       "['<example correction=\"called on|asked\">She was <marker>called upon</marker> three times.</example>']"
      ]
     },
     "execution_count": 5,
     "metadata": {},
     "output_type": "execute_result"
    }
   ],
   "source": [
    "examples_list"
   ]
  },
  {
   "cell_type": "code",
   "execution_count": 7,
   "metadata": {},
   "outputs": [
    {
     "name": "stdout",
     "output_type": "stream",
     "text": [
      "\n",
      "<rule id=\"BRIEFCATCH_72217380358443072298334619098248039878\" name=\"BRIEFCATCH_PUNCHINESS_921\">\n",
      "    <pattern>\n",
      "        <token inflected=\"yes\">call</token>\n",
      "        <token>upon</token>\n",
      "    </pattern>\n",
      "    <message>Would shorter words add punch?|**Example** from Justice Gorsuch: “When **called on** to interpret a statute, this Court generally seeks to discern and apply the ordinary meaning of its terms at the time of their adoption.”|**Example** from Deanne Maynard: “The [order] merely confirms that it was not until later proceedings that he was **called on** to single out these waters.”</message>\n",
      "    <suggestion><match no=\"1\"/> on</suggestion>\n",
      "    <suggestion><match no=\"1\" postag=\"(V.*)\" postag_regexp=\"yes\" postag_replace=\"$1\">ask</match></suggestion>\n",
      "    <short>{\"ruleGroup\":null,\"ruleGroupIdx\":0,\"isConsistency\":false,\"isStyle\":true,\"correctionCount\":2,\"priority\":\"2.84\",\"WORD\":true,\"OUTLOOK\":true}</short>\n",
      "\n",
      "    <example correction=\"called on|asked\">She was <marker>called upon</marker> three times.</example>\n",
      "</rule>\n",
      "\n"
     ]
    }
   ],
   "source": [
    "print(replace_examples(xml, examples_list))"
   ]
  },
  {
   "cell_type": "code",
   "execution_count": 16,
   "metadata": {},
   "outputs": [
    {
     "name": "stdout",
     "output_type": "stream",
     "text": [
      "<rule id=\"BRIEFCATCH_72217380358443072298334619098248039878\" name=\"BRIEFCATCH_PUNCHINESS_921\">\n",
      "    <pattern>\n",
      "        <token inflected=\"yes\">call</token>\n",
      "        <token>upon</token>\n",
      "    </pattern>\n",
      "    <message>Would shorter words add punch?|**Example** from Justice Gorsuch: “When **called on** to interpret a statute, this Court generally seeks to discern and apply the ordinary meaning of its terms at the time of their adoption.”|**Example** from Deanne Maynard: “The [order] merely confirms that it was not until later proceedings that he was **called on** to single out these waters.”</message>\n",
      "    <suggestion><match no=\"1\"/> on</suggestion>\n",
      "    <suggestion><match no=\"1\" postag=\"(V.*)\" postag_regexp=\"yes\" postag_replace=\"$1\">ask</match></suggestion>\n",
      "    <short>{\"ruleGroup\":null,\"ruleGroupIdx\":0,\"isConsistency\":false,\"isStyle\":true,\"correctionCount\":2,\"priority\":\"2.84\",\"WORD\":true,\"OUTLOOK\":true}</short>\n",
      "    <example correction=\"called on|asked\">She was <marker>called upon</marker> three times.</example>\n",
      "<example correction=\"called on|asked\">She was <marker>called upon</marker> three times.</example></rule>\n"
     ]
    }
   ],
   "source": [
    "import xml.etree.ElementTree as ET\n",
    "\n",
    "\n",
    "def append_example_element_to_rule(xml_string, example_xml_string):\n",
    "    # Parse the original XML string into an ElementTree object\n",
    "    root = ET.fromstring(xml_string)\n",
    "\n",
    "    # Parse the example XML string separately to get an Element object\n",
    "    # We need to wrap the example_xml_string in a root tag to parse it correctly\n",
    "    example_root = ET.fromstring(f\"<root>{example_xml_string}</root>\")\n",
    "\n",
    "    # Since example_root is a wrapper, we directly access its first child, which is the actual example element\n",
    "    new_example = example_root[0]\n",
    "\n",
    "    # Append the new example element to the root element of the original XML\n",
    "    root.append(new_example)\n",
    "\n",
    "    # Convert the updated ElementTree object back to a string\n",
    "    updated_xml_string = ET.tostring(root, encoding=\"unicode\")\n",
    "\n",
    "    # corrections\n",
    "    updated_xml_string = updated_xml_string.replace(\" />\", \"/>\")\n",
    "\n",
    "    return updated_xml_string\n",
    "\n",
    "\n",
    "# New example XML string to be added\n",
    "example_xml_string = '<example correction=\"called on|asked\">She was <marker>called upon</marker> three times.</example>'\n",
    "\n",
    "# Append the new example element and print the updated XML string\n",
    "updated_xml_string_correct = append_example_element_to_rule(xml, example_xml_string)\n",
    "print(updated_xml_string_correct)"
   ]
  },
  {
   "cell_type": "code",
   "execution_count": 13,
   "metadata": {},
   "outputs": [
    {
     "data": {
      "text/plain": [
       "'<example correction=\"called on|asked\">She was <marker>called upon</marker> three times.</example>'"
      ]
     },
     "execution_count": 13,
     "metadata": {},
     "output_type": "execute_result"
    }
   ],
   "source": [
    "examples_list[0]"
   ]
  },
  {
   "cell_type": "code",
   "execution_count": 12,
   "metadata": {},
   "outputs": [
    {
     "name": "stdout",
     "output_type": "stream",
     "text": [
      "<rule id=\"BRIEFCATCH_72217380358443072298334619098248039878\" name=\"BRIEFCATCH_PUNCHINESS_921\">\n",
      "    <pattern>\n",
      "        <token inflected=\"yes\">call</token>\n",
      "        <token>upon</token>\n",
      "    </pattern>\n",
      "    <message>Would shorter words add punch?|**Example** from Justice Gorsuch: “When **called on** to interpret a statute, this Court generally seeks to discern and apply the ordinary meaning of its terms at the time of their adoption.”|**Example** from Deanne Maynard: “The [order] merely confirms that it was not until later proceedings that he was **called on** to single out these waters.”</message>\n",
      "    <suggestion><match no=\"1\" /> on</suggestion>\n",
      "    <suggestion><match no=\"1\" postag=\"(V.*)\" postag_regexp=\"yes\" postag_replace=\"$1\">ask</match></suggestion>\n",
      "    <short>{\"ruleGroup\":null,\"ruleGroupIdx\":0,\"isConsistency\":false,\"isStyle\":true,\"correctionCount\":2,\"priority\":\"2.84\",\"WORD\":true,\"OUTLOOK\":true}</short>\n",
      "    <example correction=\"called on|asked\">She was <marker>called upon</marker> three times.</example>\n",
      "<example>&lt;example correction=\"called on|asked\"&gt;She was &lt;marker&gt;called upon&lt;/marker&gt; three times.&lt;/example&gt;</example></rule>\n"
     ]
    }
   ],
   "source": [
    "print(append_example_to_rule(xml, examples_list[0]))"
   ]
  }
 ],
 "metadata": {
  "kernelspec": {
   "display_name": "briefcatch",
   "language": "python",
   "name": "python3"
  },
  "language_info": {
   "codemirror_mode": {
    "name": "ipython",
    "version": 3
   },
   "file_extension": ".py",
   "mimetype": "text/x-python",
   "name": "python",
   "nbconvert_exporter": "python",
   "pygments_lexer": "ipython3",
   "version": "3.9.18"
  }
 },
 "nbformat": 4,
 "nbformat_minor": 2
}
